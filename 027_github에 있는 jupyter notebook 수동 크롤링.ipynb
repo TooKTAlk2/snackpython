{
 "cells": [
  {
   "cell_type": "markdown",
   "source": [
    "주피터 노트북 수동 크롤링\n",
    "- 깃허브에서 마음에드는 ipynb 파일 \n",
    "- 코어 개발자에 보면 좋은 노트북이 많다.\n",
    "- pyperclip 라이브러리 사용\n",
    "    - ctrl + c -> copy\n",
    "    - ctrl + p -> paste"
   ],
   "metadata": {}
  },
  {
   "cell_type": "code",
   "execution_count": 10,
   "source": [
    "import pyperclip"
   ],
   "outputs": [],
   "metadata": {}
  },
  {
   "cell_type": "code",
   "execution_count": 14,
   "source": [
    "\n",
    "curr_value = \"\"\n",
    "filename = \"something\"\n",
    "count = 0\n",
    "while True:\n",
    "    copied_value = pyperclip.paste()\n",
    "    if curr_value != copied_value:\n",
    "        curr_value = copied_value\n",
    "        if count != 0:\n",
    "            with open(f\"{filename}_{count}.ipynb\", \"w\", encoding=\"utf-8\") as f:\n",
    "                f.write(curr_value)\n",
    "        count += 1\n"
   ],
   "outputs": [
    {
     "output_type": "error",
     "ename": "AttributeError",
     "evalue": "module 'pyperclip' has no attribute 'paste'",
     "traceback": [
      "\u001b[0;31m---------------------------------------------------------------------------\u001b[0m",
      "\u001b[0;31mAttributeError\u001b[0m                            Traceback (most recent call last)",
      "\u001b[0;32m/var/folders/cf/hj01t_md1j52kbyfrvqn3cx40000gn/T/ipykernel_7128/2881202921.py\u001b[0m in \u001b[0;36m<module>\u001b[0;34m\u001b[0m\n\u001b[1;32m      3\u001b[0m \u001b[0mcount\u001b[0m \u001b[0;34m=\u001b[0m \u001b[0;36m0\u001b[0m\u001b[0;34m\u001b[0m\u001b[0;34m\u001b[0m\u001b[0m\n\u001b[1;32m      4\u001b[0m \u001b[0;32mwhile\u001b[0m \u001b[0;32mTrue\u001b[0m\u001b[0;34m:\u001b[0m\u001b[0;34m\u001b[0m\u001b[0;34m\u001b[0m\u001b[0m\n\u001b[0;32m----> 5\u001b[0;31m     \u001b[0mcopied_value\u001b[0m \u001b[0;34m=\u001b[0m \u001b[0mpyperclip\u001b[0m\u001b[0;34m.\u001b[0m\u001b[0mpaste\u001b[0m\u001b[0;34m(\u001b[0m\u001b[0;34m)\u001b[0m\u001b[0;34m\u001b[0m\u001b[0;34m\u001b[0m\u001b[0m\n\u001b[0m\u001b[1;32m      6\u001b[0m     \u001b[0;32mif\u001b[0m \u001b[0mcurr_value\u001b[0m \u001b[0;34m!=\u001b[0m \u001b[0mcopied_value\u001b[0m\u001b[0;34m:\u001b[0m\u001b[0;34m\u001b[0m\u001b[0;34m\u001b[0m\u001b[0m\n\u001b[1;32m      7\u001b[0m         \u001b[0mcurr_value\u001b[0m \u001b[0;34m=\u001b[0m \u001b[0mcopied_value\u001b[0m\u001b[0;34m\u001b[0m\u001b[0;34m\u001b[0m\u001b[0m\n",
      "\u001b[0;31mAttributeError\u001b[0m: module 'pyperclip' has no attribute 'paste'"
     ]
    }
   ],
   "metadata": {}
  },
  {
   "cell_type": "code",
   "execution_count": null,
   "source": [],
   "outputs": [],
   "metadata": {}
  }
 ],
 "metadata": {
  "interpreter": {
   "hash": "aee8b7b246df8f9039afb4144a1f6fd8d2ca17a180786b69acc140d282b71a49"
  },
  "kernelspec": {
   "name": "python3",
   "display_name": "Python 3.9.7 64-bit"
  },
  "language_info": {
   "codemirror_mode": {
    "name": "ipython",
    "version": 3
   },
   "file_extension": ".py",
   "mimetype": "text/x-python",
   "name": "python",
   "nbconvert_exporter": "python",
   "pygments_lexer": "ipython3",
   "version": "3.9.7"
  }
 },
 "nbformat": 4,
 "nbformat_minor": 5
}