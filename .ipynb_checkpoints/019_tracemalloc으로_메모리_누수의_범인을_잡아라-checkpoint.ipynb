{
 "cells": [
  {
   "cell_type": "markdown",
   "metadata": {
    "id": "3AH1o_x6E2vY"
   },
   "source": [
    "## tracemalloc으로 메모리 누수의 범인을 잡아라!\n",
    "\n",
    "* 인공지능 모듈이나 빅데이터 시각화에서 메모리 추적을 할 필요가 있음\n",
    "* 예를 들어 데이터 시각화(matplotlib)에서 메모리를 많이 사용하였다면 plt.close(fig) 필요\n",
    "* garbage collection이 있긴 하지만 수거되지 않는 메모리가 있음!\n",
    "* tracemalloc은 python 3.4부터 지원, 이전엔 garbage collection gc 모듈 사용\n",
    "* 하지만 gc는 어떤 모듈에서 얼마나 메모리를 사용하는지 알려주지 않는 문제가 있음, teacemalloc는 모듈별로 트랙킹 가능\n"
   ]
  },
  {
   "cell_type": "code",
   "execution_count": 1,
   "metadata": {
    "colab": {
     "base_uri": "https://localhost:8080/"
    },
    "id": "6JLQwTThHwY1",
    "outputId": "e1f92248-8ef5-449e-b6f9-9992a4533fae"
   },
   "outputs": [
    {
     "name": "stdout",
     "output_type": "stream",
     "text": [
      "[ Top 10 differences ]\n",
      "/Users/matt_secondhands/Dropbox/snackpython/testfunctions.py:2: size=22.0 KiB (+22.0 KiB), count=226 (+226), average=100 B\n",
      "/Users/matt_secondhands/.pyenv/versions/3.8.12/lib/python3.8/codeop.py:143: size=1333 B (+1112 B), count=21 (+19), average=63 B\n",
      "/Users/matt_secondhands/Dropbox/snackpython/testfunctions.py:5: size=832 B (+832 B), count=2 (+2), average=416 B\n",
      "/Users/matt_secondhands/.pyenv/versions/3.8.12/lib/python3.8/tracemalloc.py:397: size=512 B (+512 B), count=3 (+3), average=171 B\n",
      "/Users/matt_secondhands/.pyenv/versions/3.8.12/lib/python3.8/tracemalloc.py:534: size=472 B (+472 B), count=2 (+2), average=236 B\n",
      "/var/folders/jv/81fmgh2d6h3bpbtwcwcspyjm0000gn/T/ipykernel_4593/3772833857.py:9: size=424 B (+424 B), count=1 (+1), average=424 B\n",
      "/var/folders/jv/81fmgh2d6h3bpbtwcwcspyjm0000gn/T/ipykernel_4593/3772833857.py:5: size=0 B (-424 B), count=0 (-1)\n",
      "/var/folders/jv/81fmgh2d6h3bpbtwcwcspyjm0000gn/T/ipykernel_4593/3772833857.py:7: size=408 B (+408 B), count=1 (+1), average=408 B\n",
      "/Users/matt_secondhands/.pyenv/versions/3.8.12/envs/py38-scrapy25/lib/python3.8/site-packages/IPython/core/interactiveshell.py:3355: size=272 B (+176 B), count=6 (+3), average=45 B\n",
      "/Users/matt_secondhands/.pyenv/versions/3.8.12/envs/py38-scrapy25/lib/python3.8/site-packages/IPython/core/interactiveshell.py:3433: size=64 B (+64 B), count=1 (+1), average=64 B\n"
     ]
    }
   ],
   "source": [
    "import tracemalloc\n",
    "import testfunctions\n",
    "\n",
    "tracemalloc.start()\n",
    "snapshot1 = tracemalloc.take_snapshot()\n",
    "\n",
    "testfunctions.dataList()\n",
    "\n",
    "snapshot2 = tracemalloc.take_snapshot()\n",
    "\n",
    "top_stats = snapshot2.compare_to(snapshot1, 'lineno')\n",
    "\n",
    "print(\"[ Top 10 differences ]\")\n",
    "for stat in top_stats[:10]:\n",
    "    print(stat)"
   ]
  },
  {
   "cell_type": "code",
   "execution_count": null,
   "metadata": {
    "id": "fcjrDlnlDWOU"
   },
   "outputs": [],
   "source": []
  }
 ],
 "metadata": {
  "colab": {
   "name": "tracemalloc으로 메모리 누수의 범인을 잡아라.ipynb",
   "provenance": []
  },
  "kernelspec": {
   "display_name": "Python 3 (ipykernel)",
   "language": "python",
   "name": "python3"
  },
  "language_info": {
   "codemirror_mode": {
    "name": "ipython",
    "version": 3
   },
   "file_extension": ".py",
   "mimetype": "text/x-python",
   "name": "python",
   "nbconvert_exporter": "python",
   "pygments_lexer": "ipython3",
   "version": "3.8.12"
  }
 },
 "nbformat": 4,
 "nbformat_minor": 1
}
