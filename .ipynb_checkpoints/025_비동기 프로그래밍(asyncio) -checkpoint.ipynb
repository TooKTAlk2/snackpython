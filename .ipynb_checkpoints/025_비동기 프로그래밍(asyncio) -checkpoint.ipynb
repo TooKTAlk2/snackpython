{
 "cells": [
  {
   "cell_type": "markdown",
   "id": "ddfd42d5",
   "metadata": {},
   "source": [
    "## 비동기란?\n",
    "- 일반적으로 작성하는 코드는 동기적으로 작동\n",
    "- 동기적(Synchronous)이란?\n",
    "    - 해당 함수가 끝날 때까지 다른 함수는 실행하지 않는 것\n",
    "    - 해당함수가 컴퓨팅 자원 전체를 필요로 하면 상관없지만, 일반적으로 그렇지 않음!!!\n",
    "    - 그러니, 남는컴퓨팅 자원들이 놀고 있다. 낭비\n",
    "- 해결하자\n",
    "    - 비동기 프로그래밍\n",
    "\n",
    "- 선수지식 : 코루틴\n",
    "    - 코루틴은 제너레이터의 일종이며, 값을 받아서 yield함"
   ]
  },
  {
   "cell_type": "markdown",
   "id": "c7cfa807",
   "metadata": {},
   "source": [
    "동기적 프로그래밍의 예"
   ]
  },
  {
   "cell_type": "code",
   "execution_count": 11,
   "id": "e001b3bb",
   "metadata": {},
   "outputs": [
    {
     "name": "stdout",
     "output_type": "stream",
     "text": [
      "1\n",
      "3\n",
      "6\n",
      "10\n",
      "15\n",
      "21\n",
      "28\n",
      "36\n",
      "45\n",
      "1\n",
      "3\n",
      "6\n",
      "10\n",
      "15\n",
      "21\n",
      "28\n",
      "36\n",
      "45\n",
      "걸린 시간 : 18.055\n"
     ]
    }
   ],
   "source": [
    "import time\n",
    "\n",
    "def foo():\n",
    "    res = 0\n",
    "    \n",
    "    for i in range(1,10):\n",
    "        res += i\n",
    "        print(res)\n",
    "        time.sleep(1)\n",
    "    return res\n",
    "\n",
    "start = time.time()\n",
    "foo()\n",
    "foo()\n",
    "end = time.time()\n",
    "over_time = round(end-start, 3)\n",
    "print(f'걸린 시간 : {over_time}')"
   ]
  },
  {
   "cell_type": "markdown",
   "id": "2aad3d72",
   "metadata": {},
   "source": [
    "비동기적 프로그래밍 \n",
    "\n",
    "## 비동기 함수 작성법\n",
    "\n",
    "- 비동기적으로 실행하기 위해서는 foo 함수 자체를 코루틴 형태로 작성하고 + async 키워드로 선언\n",
    "- 코루틴이지만 yield 대신 await,\n",
    "- await 1초 쉴때 -> 다음 foo()를 실행하는 것임,\n",
    "- 이때 await키워드 뒤에 코루틴 함수를 사용해야함, 여기서는 asyncio.sleep(1)\n",
    "\n",
    "\n",
    "실행할 때\n",
    "\n",
    "- 방법 1 : asyncio.get_event_loop()사용\n",
    "    - close 무조건 하세요\n",
    "- 방법 2 : asyncio.run()\n",
    "    - 3.7 이상 "
   ]
  },
  {
   "cell_type": "code",
   "execution_count": 1,
   "id": "ae5787e6",
   "metadata": {},
   "outputs": [
    {
     "ename": "RuntimeError",
     "evalue": "asyncio.run() cannot be called from a running event loop",
     "output_type": "error",
     "traceback": [
      "\u001b[0;31m---------------------------------------------------------------------------\u001b[0m",
      "\u001b[0;31mRuntimeError\u001b[0m                              Traceback (most recent call last)",
      "\u001b[0;32m/var/folders/jv/81fmgh2d6h3bpbtwcwcspyjm0000gn/T/ipykernel_9556/3715761269.py\u001b[0m in \u001b[0;36m<module>\u001b[0;34m\u001b[0m\n\u001b[1;32m     14\u001b[0m \u001b[0;31m# loop.run_until_complete(asyncio.gather(foo(),foo()))\u001b[0m\u001b[0;34m\u001b[0m\u001b[0;34m\u001b[0m\u001b[0;34m\u001b[0m\u001b[0m\n\u001b[1;32m     15\u001b[0m \u001b[0;31m# loop.close()\u001b[0m\u001b[0;34m\u001b[0m\u001b[0;34m\u001b[0m\u001b[0;34m\u001b[0m\u001b[0m\n\u001b[0;32m---> 16\u001b[0;31m \u001b[0masyncio\u001b[0m\u001b[0;34m.\u001b[0m\u001b[0mrun\u001b[0m\u001b[0;34m(\u001b[0m\u001b[0masyncio\u001b[0m\u001b[0;34m.\u001b[0m\u001b[0mwait\u001b[0m\u001b[0;34m(\u001b[0m\u001b[0;34m[\u001b[0m\u001b[0mfoo\u001b[0m\u001b[0;34m(\u001b[0m\u001b[0;34m)\u001b[0m\u001b[0;34m,\u001b[0m\u001b[0mfoo\u001b[0m\u001b[0;34m(\u001b[0m\u001b[0;34m)\u001b[0m\u001b[0;34m]\u001b[0m\u001b[0;34m)\u001b[0m\u001b[0;34m)\u001b[0m\u001b[0;34m\u001b[0m\u001b[0;34m\u001b[0m\u001b[0m\n\u001b[0m\u001b[1;32m     17\u001b[0m \u001b[0;34m\u001b[0m\u001b[0m\n\u001b[1;32m     18\u001b[0m \u001b[0mend\u001b[0m \u001b[0;34m=\u001b[0m \u001b[0mtime\u001b[0m\u001b[0;34m.\u001b[0m\u001b[0mtime\u001b[0m\u001b[0;34m(\u001b[0m\u001b[0;34m)\u001b[0m\u001b[0;34m\u001b[0m\u001b[0;34m\u001b[0m\u001b[0m\n",
      "\u001b[0;32m~/.pyenv/versions/3.8.12/lib/python3.8/asyncio/runners.py\u001b[0m in \u001b[0;36mrun\u001b[0;34m(main, debug)\u001b[0m\n\u001b[1;32m     31\u001b[0m     \"\"\"\n\u001b[1;32m     32\u001b[0m     \u001b[0;32mif\u001b[0m \u001b[0mevents\u001b[0m\u001b[0;34m.\u001b[0m\u001b[0m_get_running_loop\u001b[0m\u001b[0;34m(\u001b[0m\u001b[0;34m)\u001b[0m \u001b[0;32mis\u001b[0m \u001b[0;32mnot\u001b[0m \u001b[0;32mNone\u001b[0m\u001b[0;34m:\u001b[0m\u001b[0;34m\u001b[0m\u001b[0;34m\u001b[0m\u001b[0m\n\u001b[0;32m---> 33\u001b[0;31m         raise RuntimeError(\n\u001b[0m\u001b[1;32m     34\u001b[0m             \"asyncio.run() cannot be called from a running event loop\")\n\u001b[1;32m     35\u001b[0m \u001b[0;34m\u001b[0m\u001b[0m\n",
      "\u001b[0;31mRuntimeError\u001b[0m: asyncio.run() cannot be called from a running event loop"
     ]
    }
   ],
   "source": [
    "import time\n",
    "import asyncio\n",
    "async def foo():\n",
    "    res = 0\n",
    "    for i in range(1,10):\n",
    "        res += i\n",
    "        print(res)\n",
    "        await asyncio.sleep(1)\n",
    "\n",
    "    return res\n",
    "\n",
    "start = time.time()\n",
    "# loop = asyncio.get_event_loop()\n",
    "# loop.run_until_complete(asyncio.gather(foo(),foo()))\n",
    "# loop.close()\n",
    "asyncio.run(asyncio.wait([foo(),foo()]))\n",
    "\n",
    "end = time.time()\n",
    "over_time = round(end-start, 3)\n",
    "print(f'걸린 시간 : {over_time}')"
   ]
  },
  {
   "cell_type": "code",
   "execution_count": null,
   "id": "9dbdc54b",
   "metadata": {},
   "outputs": [],
   "source": []
  }
 ],
 "metadata": {
  "kernelspec": {
   "display_name": "Python 3 (ipykernel)",
   "language": "python",
   "name": "python3"
  },
  "language_info": {
   "codemirror_mode": {
    "name": "ipython",
    "version": 3
   },
   "file_extension": ".py",
   "mimetype": "text/x-python",
   "name": "python",
   "nbconvert_exporter": "python",
   "pygments_lexer": "ipython3",
   "version": "3.8.12"
  }
 },
 "nbformat": 4,
 "nbformat_minor": 5
}
