{
 "cells": [
  {
   "cell_type": "markdown",
   "metadata": {},
   "source": [
    "## 1 minute, 스낵 파이썬 - 001. f-string의 이중 중괄호\n",
    "- 문자열의 길이를 특정 길이로 유지해야할 때\n",
    "- 왼쪽,오른쪽 정렬\n",
    "- 문자열 개수 맞추기\n",
    "    - x -> 01\n",
    "    - 10"
   ]
  },
  {
   "cell_type": "code",
   "execution_count": 8,
   "metadata": {},
   "outputs": [
    {
     "data": {
      "text/plain": [
       "'10        '"
      ]
     },
     "execution_count": 8,
     "metadata": {},
     "output_type": "execute_result"
    }
   ],
   "source": [
    "숫자 = 10\n",
    "자릿수 = 10\n",
    "# 숫자를 자릿수만큼 왼쪽 정렬\n",
    "f'{숫자:<{자릿수}}'"
   ]
  },
  {
   "cell_type": "code",
   "execution_count": 9,
   "metadata": {},
   "outputs": [
    {
     "data": {
      "text/plain": [
       "'10        '"
      ]
     },
     "execution_count": 9,
     "metadata": {},
     "output_type": "execute_result"
    }
   ],
   "source": [
    "# 숫자를 자릿수만큼 오른쪽 정렬\n",
    "f'{숫자:<{자릿수}}'"
   ]
  },
  {
   "cell_type": "code",
   "execution_count": 10,
   "metadata": {},
   "outputs": [
    {
     "name": "stdout",
     "output_type": "stream",
     "text": [
      "10\n"
     ]
    }
   ],
   "source": [
    "print(len(f'{숫자:<{자릿수}}'))"
   ]
  },
  {
   "cell_type": "code",
   "execution_count": 12,
   "metadata": {},
   "outputs": [
    {
     "data": {
      "text/plain": [
       "'0000000010'"
      ]
     },
     "execution_count": 12,
     "metadata": {},
     "output_type": "execute_result"
    }
   ],
   "source": [
    "# 오른쪽 정렬 후, 남는 자리를 0으로 채울 것이다.\n",
    "f'{숫자:0{자릿수}d}'"
   ]
  },
  {
   "cell_type": "code",
   "execution_count": 13,
   "metadata": {},
   "outputs": [
    {
     "data": {
      "text/plain": [
       "'3.142'"
      ]
     },
     "execution_count": 13,
     "metadata": {},
     "output_type": "execute_result"
    }
   ],
   "source": [
    "원주율 = 3.141592\n",
    "소수점 = 3\n",
    "f'{원주율:.{소수점}f}'"
   ]
  },
  {
   "cell_type": "markdown",
   "metadata": {},
   "source": [
    "## 1 minute, 스낵 파이썬 - 002. 왈러스 연산자\n",
    "\n",
    "* f'string 추가영상 : https://youtu.be/_UdOzBvpu90\n",
    "* walrus 추가영상 : https://youtu.be/dY7mVQXmwk4 (Python 3.8 update)\n",
    "\n",
    "* 특정 변수명을 재할당하고, return 해야할 때 왈러스 연산자 := 를 사용하면 좋습니다."
   ]
  },
  {
   "cell_type": "code",
   "execution_count": 16,
   "metadata": {},
   "outputs": [
    {
     "data": {
      "text/plain": [
       "11"
      ]
     },
     "execution_count": 16,
     "metadata": {},
     "output_type": "execute_result"
    }
   ],
   "source": [
    "value = 10\n",
    "# 할당 뿐만 아니라, return 역할도 함\n",
    "(value := value + 1) #왈러스"
   ]
  },
  {
   "cell_type": "code",
   "execution_count": 19,
   "metadata": {},
   "outputs": [
    {
     "data": {
      "text/plain": [
       "13"
      ]
     },
     "execution_count": 19,
     "metadata": {},
     "output_type": "execute_result"
    }
   ],
   "source": [
    "# this sentence returns value\n",
    "(value := value + 1) "
   ]
  },
  {
   "cell_type": "code",
   "execution_count": 20,
   "metadata": {},
   "outputs": [
    {
     "name": "stdout",
     "output_type": "stream",
     "text": [
      "1\n",
      "2\n",
      "3\n",
      "4\n",
      "5\n",
      "6\n",
      "7\n",
      "8\n",
      "9\n"
     ]
    }
   ],
   "source": [
    "count = 0\n",
    "while (count := count + 1) < 10:\n",
    "    print(count)"
   ]
  },
  {
   "cell_type": "code",
   "execution_count": 21,
   "metadata": {},
   "outputs": [
    {
     "data": {
      "text/plain": [
       "5050"
      ]
     },
     "execution_count": 21,
     "metadata": {},
     "output_type": "execute_result"
    }
   ],
   "source": [
    "count = 0\n",
    "result = 0\n",
    "while (count := count + 1) < 101:\n",
    "    result += count\n",
    "    \n",
    "result"
   ]
  },
  {
   "cell_type": "code",
   "execution_count": 22,
   "metadata": {},
   "outputs": [
    {
     "name": "stdout",
     "output_type": "stream",
     "text": [
      "5050\n",
      "6050\n"
     ]
    }
   ],
   "source": [
    "def 시그마(n):\n",
    "    count = 0\n",
    "    result = 0\n",
    "    while (count := count + 1) < n + 1:\n",
    "        result += count\n",
    "    return result\n",
    "\n",
    "\n",
    "if 합 := 시그마(100):\n",
    "    print(합)\n",
    "else:\n",
    "    print('1부터 정수형태로 입력이 가능합니다.')\n",
    "    \n",
    "print(합 + 1000)"
   ]
  },
  {
   "cell_type": "code",
   "execution_count": 23,
   "metadata": {
    "scrolled": true
   },
   "outputs": [
    {
     "name": "stdout",
     "output_type": "stream",
     "text": [
      "5050이 출력되었습니다.\n",
      "6050\n"
     ]
    }
   ],
   "source": [
    "def 시그마(n):\n",
    "    count = 0\n",
    "    result = 0\n",
    "    while (count := count + 1) < n + 1:\n",
    "        result += count\n",
    "    return result\n",
    "\n",
    "if (합 := 시그마(100)) == 5050:\n",
    "    print('5050이 출력되었습니다.')\n",
    "else:\n",
    "    print('1부터 정수형태로 입력이 가능합니다.')\n",
    "\n",
    "print(합 + 1000)"
   ]
  },
  {
   "cell_type": "markdown",
   "metadata": {},
   "source": [
    "## 1 minute, 스낵 파이썬 - 003. 딕셔너리 KeyError 처리\n",
    "\n",
    "* collections defaultdict 추가영상 : https://youtu.be/zF01pfp1MOo\n",
    "* Python 3.10 에 switch/case와 비슷한 match/case 구문 : https://youtu.be/9C2h3WIO8J8\n",
    "\n",
    "\n",
    "- key error : dictionry.get 메소드로 default value 할당"
   ]
  },
  {
   "cell_type": "code",
   "execution_count": 24,
   "metadata": {},
   "outputs": [],
   "source": [
    "def 요일구하기(요일):\n",
    "    return { \n",
    "        0: '일요일',\n",
    "        1: '월요일',\n",
    "        2: '화요일',\n",
    "        3: '수요일',\n",
    "        4: '목요일',\n",
    "        5: '금요일',\n",
    "        6: '토요일'\n",
    "    }.get(요일, '요일없음')"
   ]
  },
  {
   "cell_type": "code",
   "execution_count": 25,
   "metadata": {},
   "outputs": [
    {
     "data": {
      "text/plain": [
       "'요일없음'"
      ]
     },
     "execution_count": 25,
     "metadata": {},
     "output_type": "execute_result"
    }
   ],
   "source": [
    "요일구하기(10)"
   ]
  },
  {
   "cell_type": "code",
   "execution_count": 27,
   "metadata": {},
   "outputs": [
    {
     "ename": "KeyError",
     "evalue": "10",
     "output_type": "error",
     "traceback": [
      "\u001b[0;31m---------------------------------------------------------------------------\u001b[0m",
      "\u001b[0;31mKeyError\u001b[0m                                  Traceback (most recent call last)",
      "\u001b[0;32m/var/folders/cf/hj01t_md1j52kbyfrvqn3cx40000gn/T/ipykernel_2311/3205244254.py\u001b[0m in \u001b[0;36m<module>\u001b[0;34m\u001b[0m\n\u001b[1;32m      1\u001b[0m \u001b[0;31m# got key error\u001b[0m\u001b[0;34m\u001b[0m\u001b[0;34m\u001b[0m\u001b[0;34m\u001b[0m\u001b[0m\n\u001b[0;32m----> 2\u001b[0;31m { \n\u001b[0m\u001b[1;32m      3\u001b[0m     \u001b[0;36m0\u001b[0m\u001b[0;34m:\u001b[0m \u001b[0;34m'일요일'\u001b[0m\u001b[0;34m,\u001b[0m\u001b[0;34m\u001b[0m\u001b[0;34m\u001b[0m\u001b[0m\n\u001b[1;32m      4\u001b[0m     \u001b[0;36m1\u001b[0m\u001b[0;34m:\u001b[0m \u001b[0;34m'월요일'\u001b[0m\u001b[0;34m,\u001b[0m\u001b[0;34m\u001b[0m\u001b[0;34m\u001b[0m\u001b[0m\n\u001b[1;32m      5\u001b[0m     \u001b[0;36m2\u001b[0m\u001b[0;34m:\u001b[0m \u001b[0;34m'화요일'\u001b[0m\u001b[0;34m,\u001b[0m\u001b[0;34m\u001b[0m\u001b[0;34m\u001b[0m\u001b[0m\n",
      "\u001b[0;31mKeyError\u001b[0m: 10"
     ]
    }
   ],
   "source": [
    "# got key error\n",
    "{ \n",
    "    0: '일요일',\n",
    "    1: '월요일',\n",
    "    2: '화요일',\n",
    "    3: '수요일',\n",
    "    4: '목요일',\n",
    "    5: '금요일',\n",
    "    6: '토요일'\n",
    "}[10]"
   ]
  },
  {
   "cell_type": "markdown",
   "metadata": {},
   "source": [
    "## 1 minute, 스낵 파이썬 - 004. 리스트 append와 리스트컴프리헨션 성능 비교\n",
    "- dis module은 해당 코드의 byte 코드를 알 수 있다.\n",
    "- 속도 측정만 한다.\n",
    "- list 컴ㅍ프리 헨션이 빠르다.\n",
    "- 메모리 측정을 하면, 메모리에 숫자가 축적되기 때문에 줄어든?"
   ]
  },
  {
   "cell_type": "code",
   "execution_count": 31,
   "metadata": {},
   "outputs": [
    {
     "name": "stdout",
     "output_type": "stream",
     "text": [
      "  4           0 LOAD_CONST               1 (<code object <listcomp> at 0x11171fa80, file \"/var/folders/cf/hj01t_md1j52kbyfrvqn3cx40000gn/T/ipykernel_2311/2211567802.py\", line 4>)\n",
      "              2 LOAD_CONST               2 ('테스트.<locals>.<listcomp>')\n",
      "              4 MAKE_FUNCTION            0\n",
      "              6 LOAD_GLOBAL              0 (range)\n",
      "              8 LOAD_CONST               3 (10)\n",
      "             10 CALL_FUNCTION            1\n",
      "             12 GET_ITER\n",
      "             14 CALL_FUNCTION            1\n",
      "             16 STORE_FAST               0 (x)\n",
      "\n",
      "  5          18 LOAD_FAST                0 (x)\n",
      "             20 RETURN_VALUE\n",
      "\n",
      "Disassembly of <code object <listcomp> at 0x11171fa80, file \"/var/folders/cf/hj01t_md1j52kbyfrvqn3cx40000gn/T/ipykernel_2311/2211567802.py\", line 4>:\n",
      "  4           0 BUILD_LIST               0\n",
      "              2 LOAD_FAST                0 (.0)\n",
      "        >>    4 FOR_ITER                 8 (to 14)\n",
      "              6 STORE_FAST               1 (i)\n",
      "              8 LOAD_FAST                1 (i)\n",
      "             10 LIST_APPEND              2\n",
      "             12 JUMP_ABSOLUTE            4\n",
      "        >>   14 RETURN_VALUE\n"
     ]
    }
   ],
   "source": [
    "\n",
    "\n",
    "import dis\n",
    "\n",
    "def 테스트():\n",
    "    x = [i for i in range(10)]\n",
    "    return x\n",
    "\n",
    "dis.dis(테스트)"
   ]
  },
  {
   "cell_type": "code",
   "execution_count": 30,
   "metadata": {},
   "outputs": [
    {
     "name": "stdout",
     "output_type": "stream",
     "text": [
      "  4           0 BUILD_LIST               0\n",
      "              2 STORE_FAST               0 (x)\n",
      "\n",
      "  5           4 LOAD_GLOBAL              0 (range)\n",
      "              6 LOAD_CONST               1 (10)\n",
      "              8 CALL_FUNCTION            1\n",
      "             10 GET_ITER\n",
      "        >>   12 FOR_ITER                14 (to 28)\n",
      "             14 STORE_FAST               1 (i)\n",
      "\n",
      "  6          16 LOAD_FAST                0 (x)\n",
      "             18 LOAD_METHOD              1 (append)\n",
      "             20 LOAD_FAST                1 (i)\n",
      "             22 CALL_METHOD              1\n",
      "             24 POP_TOP\n",
      "             26 JUMP_ABSOLUTE           12\n",
      "\n",
      "  7     >>   28 LOAD_FAST                0 (x)\n",
      "             30 RETURN_VALUE\n"
     ]
    }
   ],
   "source": [
    "import dis\n",
    "\n",
    "def 테스트():\n",
    "    x = []\n",
    "    for i in range(10):\n",
    "        x.append(i)\n",
    "    return x\n",
    "\n",
    "dis.dis(테스트)"
   ]
  },
  {
   "cell_type": "code",
   "execution_count": null,
   "metadata": {
    "scrolled": true
   },
   "outputs": [],
   "source": [
    "# !pip install memory_profiler\n",
    "# !pip install ipython-memory-usage"
   ]
  },
  {
   "cell_type": "code",
   "execution_count": null,
   "metadata": {
    "scrolled": true
   },
   "outputs": [],
   "source": [
    "# 메모리 측정은 하지 않음\n",
    "# import memory_profiler\n",
    "# %load_ext memory_profiler\n",
    "\n",
    "# import ipython_memory_usage \n",
    "# import ipython_memory_usage.ipython_memory_usage"
   ]
  },
  {
   "cell_type": "code",
   "execution_count": 32,
   "metadata": {},
   "outputs": [
    {
     "name": "stdout",
     "output_type": "stream",
     "text": [
      "365 ms ± 11.5 ms per loop (mean ± std. dev. of 7 runs, 1 loop each)\n"
     ]
    }
   ],
   "source": [
    "%%timeit #%memit\n",
    "\n",
    "def 테스트(n):\n",
    "    s = []\n",
    "    for i in range(n+1):\n",
    "        i = i**2\n",
    "        s.append(i)\n",
    "    return sum(s)\n",
    "\n",
    "테스트(1000000)"
   ]
  },
  {
   "cell_type": "code",
   "execution_count": 36,
   "metadata": {},
   "outputs": [
    {
     "name": "stdout",
     "output_type": "stream",
     "text": [
      "293 ms ± 10.8 ms per loop (mean ± std. dev. of 7 runs, 1 loop each)\n"
     ]
    }
   ],
   "source": [
    "%%timeit #%memit\n",
    "\n",
    "def 테스트(n):\n",
    "    s = [i**2 for i in range(n+1)]\n",
    "    return sum(s)\n",
    "\n",
    "테스트(1000000)"
   ]
  },
  {
   "cell_type": "code",
   "execution_count": null,
   "metadata": {},
   "outputs": [],
   "source": [
    "# import psutil\n",
    "\n",
    "# def 현재메모리사용량():\n",
    "#     p = psutil.Process()\n",
    "#     메모리사용 = p.memory_info().rss / 2 ** 20\n",
    "#     print(f'{메모리사용: 10.5f} MB')"
   ]
  },
  {
   "cell_type": "code",
   "execution_count": null,
   "metadata": {},
   "outputs": [],
   "source": [
    "# def 테스트(n):\n",
    "#     s = []\n",
    "#     for i in range(n+1):\n",
    "#         i = i**2\n",
    "#         s.append(i)\n",
    "#     return sum(s)\n",
    "\n",
    "# 현재메모리사용량()\n",
    "# 테스트(100000000)\n",
    "# 현재메모리사용량()"
   ]
  },
  {
   "cell_type": "code",
   "execution_count": null,
   "metadata": {},
   "outputs": [],
   "source": [
    "# def 테스트(n):\n",
    "#     s = [i**2 for i in range(n+1)]\n",
    "#     return sum(s)\n",
    "\n",
    "# 현재메모리사용량()\n",
    "# 테스트(100000000)\n",
    "# 현재메모리사용량()"
   ]
  },
  {
   "cell_type": "markdown",
   "metadata": {},
   "source": [
    "## 1 minute, 스낵 파이썬 - 005. sorted의 key 응용\n",
    "- key 값 기준 정렬,\n",
    "- key 대소문자 "
   ]
  },
  {
   "cell_type": "code",
   "execution_count": 37,
   "metadata": {
    "scrolled": false
   },
   "outputs": [
    {
     "data": {
      "text/plain": [
       "[1, 2, 3, 4, 5]"
      ]
     },
     "execution_count": 37,
     "metadata": {},
     "output_type": "execute_result"
    }
   ],
   "source": [
    "sorted({1: 'D', 2: 'B', 3: 'B', 4: 'E', 5: 'A'})"
   ]
  },
  {
   "cell_type": "code",
   "execution_count": 40,
   "metadata": {},
   "outputs": [
    {
     "data": {
      "text/plain": [
       "['a', 'Andrew', 'from', 'is', 'string', 'test', 'This']"
      ]
     },
     "execution_count": 40,
     "metadata": {},
     "output_type": "execute_result"
    }
   ],
   "source": [
    "# 대소문자 가리지 않고 정렬\n",
    "sorted(\"This is a test string from Andrew\".split(), key=str.lower)"
   ]
  },
  {
   "cell_type": "code",
   "execution_count": 42,
   "metadata": {},
   "outputs": [],
   "source": [
    "student_tuples = [\n",
    "    ('john', 'A', 15),\n",
    "    ('jane', 'B', 12),\n",
    "    ('dave', 'B', 10),\n",
    "]"
   ]
  },
  {
   "cell_type": "code",
   "execution_count": 44,
   "metadata": {},
   "outputs": [
    {
     "data": {
      "text/plain": [
       "[('dave', 'B', 10), ('jane', 'B', 12), ('john', 'A', 15)]"
      ]
     },
     "execution_count": 44,
     "metadata": {},
     "output_type": "execute_result"
    }
   ],
   "source": [
    "# 10, 12 ,15\n",
    "sorted(student_tuples, key=lambda student: student[2])"
   ]
  },
  {
   "cell_type": "code",
   "execution_count": 46,
   "metadata": {},
   "outputs": [],
   "source": [
    "# 객체의 특정 요소로 정렬\n",
    "class Student:\n",
    "    def __init__(self, name, grade, age):\n",
    "        self.name = name\n",
    "        self.grade = grade\n",
    "        self.age = age\n",
    "    def __repr__(self):\n",
    "        return repr((self.name, self.grade, self.age))"
   ]
  },
  {
   "cell_type": "code",
   "execution_count": 47,
   "metadata": {},
   "outputs": [],
   "source": [
    "student_objects = [\n",
    "    Student('john', 'A', 15),\n",
    "    Student('jane', 'B', 12),\n",
    "    Student('dave', 'B', 10),\n",
    "]"
   ]
  },
  {
   "cell_type": "code",
   "execution_count": 48,
   "metadata": {},
   "outputs": [
    {
     "data": {
      "text/plain": [
       "[('dave', 'B', 10), ('jane', 'B', 12), ('john', 'A', 15)]"
      ]
     },
     "execution_count": 48,
     "metadata": {},
     "output_type": "execute_result"
    }
   ],
   "source": [
    "sorted(student_objects, key=lambda student: student.age)"
   ]
  },
  {
   "cell_type": "code",
   "execution_count": 51,
   "metadata": {},
   "outputs": [
    {
     "data": {
      "text/plain": [
       "[('dave', 'B', 10), ('jane', 'B', 12), ('john', 'A', 15)]"
      ]
     },
     "execution_count": 51,
     "metadata": {},
     "output_type": "execute_result"
    }
   ],
   "source": [
    "# 튜플을 정렬\n",
    "from operator import itemgetter, attrgetter\n",
    "\n",
    "sorted(student_tuples, key=itemgetter(2))"
   ]
  },
  {
   "cell_type": "code",
   "execution_count": 63,
   "metadata": {},
   "outputs": [
    {
     "data": {
      "text/plain": [
       "[('john', 'A', 15), ('dave', 'B', 10), ('jane', 'B', 12)]"
      ]
     },
     "execution_count": 63,
     "metadata": {},
     "output_type": "execute_result"
    }
   ],
   "source": [
    "# 모듈 사용해서,객체의 특정요소 기준 정렬\n",
    "sorted(student_objects, key=attrgetter('age'))\n",
    "# 1번째 정렬후 2번째 정렬\n",
    "sorted(student_tuples, key=itemgetter(1, 2)) #다중 순회 허용 # 다중 정렬\n",
    "# grade 먼저 정렬하고, age 정렬\n",
    "sorted(student_objects, key=attrgetter('grade', 'age'))"
   ]
  },
  {
   "cell_type": "code",
   "execution_count": 64,
   "metadata": {},
   "outputs": [
    {
     "data": {
      "text/plain": [
       "[('john', 'A', 15), ('jane', 'B', 12), ('dave', 'B', 10)]"
      ]
     },
     "execution_count": 64,
     "metadata": {},
     "output_type": "execute_result"
    }
   ],
   "source": [
    "# reverse 옵션으로 내림차순\n",
    "sorted(student_tuples, key=itemgetter(2), reverse=True)"
   ]
  },
  {
   "cell_type": "code",
   "execution_count": 65,
   "metadata": {},
   "outputs": [],
   "source": [
    "test = ['a', 'aaa', 'bb', 'cccc']"
   ]
  },
  {
   "cell_type": "code",
   "execution_count": 66,
   "metadata": {},
   "outputs": [
    {
     "data": {
      "text/plain": [
       "['a', 'bb', 'aaa', 'cccc']"
      ]
     },
     "execution_count": 66,
     "metadata": {},
     "output_type": "execute_result"
    }
   ],
   "source": [
    "# 문자열 길이순\n",
    "sorted(test, key=len)"
   ]
  },
  {
   "cell_type": "code",
   "execution_count": 68,
   "metadata": {},
   "outputs": [
    {
     "data": {
      "text/plain": [
       "[(10, 20, 10), (30, 20, 10), (50, 20, 30), (10, 100, 90), (90, 90, 90)]"
      ]
     },
     "execution_count": 68,
     "metadata": {},
     "output_type": "execute_result"
    }
   ],
   "source": [
    "test = [(30, 20, 10), (10, 100, 90), (90, 90, 90), (50, 20, 30), (10, 20, 10)]\n",
    "\n",
    "sorted(test)\n",
    "sorted(test, key = lambda x : x[0])\n",
    "# 더한값 기준\n",
    "sorted(test, key = lambda x : sum(x))"
   ]
  },
  {
   "cell_type": "code",
   "execution_count": 69,
   "metadata": {},
   "outputs": [
    {
     "data": {
      "text/plain": [
       "[0, 1, 11, 2, 2, 3, 3, 5, 5, 5, 6, 9, 9, 10, 22]"
      ]
     },
     "execution_count": 69,
     "metadata": {},
     "output_type": "execute_result"
    }
   ],
   "source": [
    "test = [10, 2, 1, 2, 9, 3, 0, 5, 5, 5, 6, 9, 3, 11, 22]\n",
    "우선순위그룹 = [0, 1, 11, 111]\n",
    "\n",
    "def 우선순위판별(값):\n",
    "    if 값 in 우선순위그룹:\n",
    "        return (False, 값)\n",
    "    return (True, 값)\n",
    "# 우선순위 판별, 0,1,11,111에 있는 값에 있는 값\n",
    "sorted(test, key=우선순위판별)\n",
    "sorted(test, key=lambda x: False if x in 우선순위그룹 else True)\n",
    "# 정렬을 하고 싶다면, 무조건 TF,Value 값을 반환해야함\n",
    "sorted(test, key=lambda x: (False, x) if x in 우선순위그룹 else (True, x))"
   ]
  },
  {
   "cell_type": "markdown",
   "metadata": {},
   "source": [
    "## 1 minute, 스낵 파이썬 - 006. 타입 힌트(type annotation)\n",
    "\n",
    "* Python은 변수의 타입이 실행 시점에 결정되는 언어(동적 프로그래밍 언어)\n",
    "* C와 JAVA는 변수를 선언할 때 반드시 타입을 명시, 컴파일 시점에 변수의 타입이 결정(정적 프로그래밍 언어)\n",
    "* mypy 모듈을 사용하면 타입힌트에 오류가 있는지 확인할 수 있음"
   ]
  },
  {
   "cell_type": "code",
   "execution_count": null,
   "metadata": {},
   "outputs": [],
   "source": [
    "number = 1 # type: int\n",
    "\n",
    "def greeting(name):\n",
    "    # type: (str) -> str\n",
    "    return 'Hello, ' + name"
   ]
  },
  {
   "attachments": {
    "pycharm.png": {
     "image/png": "[encoded data removed]"
    }
   },
   "cell_type": "markdown",
   "metadata": {},
   "source": [
    "*  Pycharm\n",
    "\n",
    "![pycharm.png](attachment:pycharm.png)"
   ]
  },
  {
   "cell_type": "code",
   "execution_count": null,
   "metadata": {},
   "outputs": [],
   "source": [
    "# Python 3.5 이상 부터는 더 나은 타입 힌트를 위해 \n",
    "# 타입 어노테이션(type annotation)이라는 기능을 추가하였습니다."
   ]
  },
  {
   "cell_type": "code",
   "execution_count": 70,
   "metadata": {},
   "outputs": [],
   "source": [
    "number: int = 1\n",
    "name: str = \"홍길동\"\n",
    "arr: list = ['a', 'b', 'c']"
   ]
  },
  {
   "cell_type": "code",
   "execution_count": 71,
   "metadata": {},
   "outputs": [],
   "source": [
    "def greeting(name: str) -> str:\n",
    "    return 'Hello, ' + name"
   ]
  },
  {
   "cell_type": "code",
   "execution_count": 72,
   "metadata": {},
   "outputs": [],
   "source": [
    "# typing 모듈로 list, set, tuple, dict 안의 모듈안에 있는 값들을 명시할 수 있게 됨\n",
    "\n",
    "import typing\n",
    "\n",
    "arr: typing.List[int] = [1, 2, 3]\n",
    "alpha: typing.Tuple[str, str, str] = ('a', 'b', 'c')\n",
    "student: typing.Dict[str, int] = {'홍길동': 1, '춘향': 2}"
   ]
  },
  {
   "cell_type": "code",
   "execution_count": 75,
   "metadata": {},
   "outputs": [],
   "source": [
    "# 에러를 강제하지 않는다.\n",
    "number: int = '123'"
   ]
  },
  {
   "cell_type": "code",
   "execution_count": 76,
   "metadata": {
    "scrolled": true
   },
   "outputs": [
    {
     "data": {
      "text/plain": [
       "'123'"
      ]
     },
     "execution_count": 76,
     "metadata": {},
     "output_type": "execute_result"
    }
   ],
   "source": [
    "number"
   ]
  },
  {
   "cell_type": "markdown",
   "metadata": {},
   "source": [
    "## 1 minute, 스낵 파이썬 - 007. sum을 활용한 개별 요소 합치기\n",
    "-  빈리스트를 합쳐줍니다."
   ]
  },
  {
   "cell_type": "code",
   "execution_count": 85,
   "metadata": {},
   "outputs": [
    {
     "data": {
      "text/plain": [
       "['!!', 'a', 'b', 'c', 1, 2, 3, 'x', 'y', 'z']"
      ]
     },
     "execution_count": 85,
     "metadata": {},
     "output_type": "execute_result"
    }
   ],
   "source": [
    "# 앞에 합쳐진다.\n",
    "li = [['a', 'b', 'c'], [1, 2, 3], ['x', 'y', 'z']]\n",
    "sum(li, ['!!'])"
   ]
  },
  {
   "cell_type": "code",
   "execution_count": 89,
   "metadata": {},
   "outputs": [
    {
     "data": {
      "text/plain": [
       "['a', 'b', 'c', 1, 2, 3, 'x', 'y', 'z']"
      ]
     },
     "execution_count": 89,
     "metadata": {},
     "output_type": "execute_result"
    }
   ],
   "source": [
    "# 빈리스트 합치기\n",
    "li = [['a', 'b', 'c'], [1, 2, 3], ['x', 'y', 'z']]\n",
    "sum(li, [])"
   ]
  },
  {
   "cell_type": "code",
   "execution_count": 90,
   "metadata": {},
   "outputs": [
    {
     "data": {
      "text/plain": [
       "('a', 'b', 'c', 1, 2, 3, 'x', 'y', 'z')"
      ]
     },
     "execution_count": 90,
     "metadata": {},
     "output_type": "execute_result"
    }
   ],
   "source": [
    "# tuple로도 가능\n",
    "li = (('a', 'b', 'c'), (1, 2, 3), ('x', 'y', 'z'))\n",
    "sum(li, ())"
   ]
  },
  {
   "cell_type": "code",
   "execution_count": 91,
   "metadata": {},
   "outputs": [
    {
     "data": {
      "text/plain": [
       "8"
      ]
     },
     "execution_count": 91,
     "metadata": {},
     "output_type": "execute_result"
    }
   ],
   "source": [
    "# in dictionry, key 을 합친다.\n",
    "li = {1:'one', 2:'two'}\n",
    "sum(li, 5)"
   ]
  },
  {
   "cell_type": "code",
   "execution_count": 94,
   "metadata": {},
   "outputs": [],
   "source": [
    "data = [[0, 1, 2],\n",
    "        [3, 4, 5],\n",
    "        [6, 7, 8]]"
   ]
  },
  {
   "cell_type": "code",
   "execution_count": 97,
   "metadata": {},
   "outputs": [
    {
     "ename": "TypeError",
     "evalue": "unsupported operand type(s) for +: 'int' and 'list'",
     "output_type": "error",
     "traceback": [
      "\u001b[0;31m---------------------------------------------------------------------------\u001b[0m",
      "\u001b[0;31mTypeError\u001b[0m                                 Traceback (most recent call last)",
      "\u001b[0;32m/var/folders/cf/hj01t_md1j52kbyfrvqn3cx40000gn/T/ipykernel_2311/2082952528.py\u001b[0m in \u001b[0;36m<module>\u001b[0;34m\u001b[0m\n\u001b[1;32m      1\u001b[0m \u001b[0;31m# get error\u001b[0m\u001b[0;34m\u001b[0m\u001b[0;34m\u001b[0m\u001b[0;34m\u001b[0m\u001b[0m\n\u001b[0;32m----> 2\u001b[0;31m \u001b[0msum\u001b[0m\u001b[0;34m(\u001b[0m\u001b[0mdata\u001b[0m\u001b[0;34m)\u001b[0m\u001b[0;34m\u001b[0m\u001b[0;34m\u001b[0m\u001b[0m\n\u001b[0m",
      "\u001b[0;31mTypeError\u001b[0m: unsupported operand type(s) for +: 'int' and 'list'"
     ]
    }
   ],
   "source": [
    "# get error\n",
    "sum(data)"
   ]
  },
  {
   "cell_type": "code",
   "execution_count": 98,
   "metadata": {},
   "outputs": [
    {
     "data": {
      "text/plain": [
       "[0, 1, 2, 3, 4, 5, 6, 7, 8]"
      ]
     },
     "execution_count": 98,
     "metadata": {},
     "output_type": "execute_result"
    }
   ],
   "source": [
    "sum(data,[])"
   ]
  },
  {
   "cell_type": "code",
   "execution_count": 99,
   "metadata": {},
   "outputs": [
    {
     "data": {
      "text/plain": [
       "36"
      ]
     },
     "execution_count": 99,
     "metadata": {},
     "output_type": "execute_result"
    }
   ],
   "source": [
    "sum(sum(data, []))"
   ]
  },
  {
   "cell_type": "code",
   "execution_count": 100,
   "metadata": {
    "scrolled": false
   },
   "outputs": [
    {
     "ename": "ModuleNotFoundError",
     "evalue": "No module named 'numpy'",
     "output_type": "error",
     "traceback": [
      "\u001b[0;31m---------------------------------------------------------------------------\u001b[0m",
      "\u001b[0;31mModuleNotFoundError\u001b[0m                       Traceback (most recent call last)",
      "\u001b[0;32m/var/folders/cf/hj01t_md1j52kbyfrvqn3cx40000gn/T/ipykernel_2311/3753807637.py\u001b[0m in \u001b[0;36m<module>\u001b[0;34m\u001b[0m\n\u001b[0;32m----> 1\u001b[0;31m \u001b[0;32mimport\u001b[0m \u001b[0mnumpy\u001b[0m \u001b[0;32mas\u001b[0m \u001b[0mnp\u001b[0m\u001b[0;34m\u001b[0m\u001b[0;34m\u001b[0m\u001b[0m\n\u001b[0m\u001b[1;32m      2\u001b[0m \u001b[0;34m\u001b[0m\u001b[0m\n\u001b[1;32m      3\u001b[0m data = [[0, 1, 2],\n\u001b[1;32m      4\u001b[0m         \u001b[0;34m[\u001b[0m\u001b[0;36m3\u001b[0m\u001b[0;34m,\u001b[0m \u001b[0;36m4\u001b[0m\u001b[0;34m,\u001b[0m \u001b[0;36m5\u001b[0m\u001b[0;34m]\u001b[0m\u001b[0;34m,\u001b[0m\u001b[0;34m\u001b[0m\u001b[0;34m\u001b[0m\u001b[0m\n\u001b[1;32m      5\u001b[0m         [6, 7, 8]]\n",
      "\u001b[0;31mModuleNotFoundError\u001b[0m: No module named 'numpy'"
     ]
    }
   ],
   "source": [
    "import numpy as np\n",
    "\n",
    "data = [[0, 1, 2],\n",
    "        [3, 4, 5],\n",
    "        [6, 7, 8]]\n",
    "np.sum(data)\n",
    "# 36"
   ]
  },
  {
   "cell_type": "code",
   "execution_count": 103,
   "metadata": {},
   "outputs": [
    {
     "ename": "NameError",
     "evalue": "name 'np' is not defined",
     "output_type": "error",
     "traceback": [
      "\u001b[0;31m---------------------------------------------------------------------------\u001b[0m",
      "\u001b[0;31mNameError\u001b[0m                                 Traceback (most recent call last)",
      "\u001b[0;32m/var/folders/cf/hj01t_md1j52kbyfrvqn3cx40000gn/T/ipykernel_2311/2184978125.py\u001b[0m in \u001b[0;36m<module>\u001b[0;34m\u001b[0m\n\u001b[0;32m----> 1\u001b[0;31m \u001b[0mnp\u001b[0m\u001b[0;34m.\u001b[0m\u001b[0msum\u001b[0m\u001b[0;34m(\u001b[0m\u001b[0mdata\u001b[0m\u001b[0;34m,\u001b[0m \u001b[0maxis\u001b[0m \u001b[0;34m=\u001b[0m \u001b[0;36m0\u001b[0m\u001b[0;34m)\u001b[0m\u001b[0;34m\u001b[0m\u001b[0;34m\u001b[0m\u001b[0m\n\u001b[0m\u001b[1;32m      2\u001b[0m \u001b[0;31m# array([9,12,15])\u001b[0m\u001b[0;34m\u001b[0m\u001b[0;34m\u001b[0m\u001b[0;34m\u001b[0m\u001b[0m\n",
      "\u001b[0;31mNameError\u001b[0m: name 'np' is not defined"
     ]
    }
   ],
   "source": [
    "np.sum(data, axis = 0)\n",
    "# array([9,12,15])"
   ]
  },
  {
   "cell_type": "code",
   "execution_count": 105,
   "metadata": {},
   "outputs": [
    {
     "ename": "NameError",
     "evalue": "name 'np' is not defined",
     "output_type": "error",
     "traceback": [
      "\u001b[0;31m---------------------------------------------------------------------------\u001b[0m",
      "\u001b[0;31mNameError\u001b[0m                                 Traceback (most recent call last)",
      "\u001b[0;32m/var/folders/cf/hj01t_md1j52kbyfrvqn3cx40000gn/T/ipykernel_2311/4234730648.py\u001b[0m in \u001b[0;36m<module>\u001b[0;34m\u001b[0m\n\u001b[0;32m----> 1\u001b[0;31m \u001b[0mnp\u001b[0m\u001b[0;34m.\u001b[0m\u001b[0msum\u001b[0m\u001b[0;34m(\u001b[0m\u001b[0mdata\u001b[0m\u001b[0;34m,\u001b[0m \u001b[0maxis\u001b[0m \u001b[0;34m=\u001b[0m \u001b[0;36m1\u001b[0m\u001b[0;34m)\u001b[0m\u001b[0;34m\u001b[0m\u001b[0;34m\u001b[0m\u001b[0m\n\u001b[0m\u001b[1;32m      2\u001b[0m \u001b[0;31m# array([3,12,21])\u001b[0m\u001b[0;34m\u001b[0m\u001b[0;34m\u001b[0m\u001b[0;34m\u001b[0m\u001b[0m\n",
      "\u001b[0;31mNameError\u001b[0m: name 'np' is not defined"
     ]
    }
   ],
   "source": [
    "np.sum(data, axis = 1)\n",
    "# array([3,12,21])"
   ]
  },
  {
   "cell_type": "markdown",
   "metadata": {},
   "source": [
    "## 1 minute, 스낵 파이썬 - 008. 제너레이터를 활용한 특정 값 무한 반복자 만들기\n",
    "- generator는 list나 tuple 보다 메모리상 이점이 있다"
   ]
  },
  {
   "cell_type": "code",
   "execution_count": 111,
   "metadata": {},
   "outputs": [],
   "source": [
    "# create generator\n",
    "def range_1_to_4():\n",
    "    yield 1\n",
    "    yield 2\n",
    "    yield 3"
   ]
  },
  {
   "cell_type": "code",
   "execution_count": 112,
   "metadata": {},
   "outputs": [
    {
     "name": "stdout",
     "output_type": "stream",
     "text": [
      "1\n",
      "2\n",
      "3\n"
     ]
    }
   ],
   "source": [
    "for i in range_1_to_4():\n",
    "    print(i)"
   ]
  },
  {
   "cell_type": "code",
   "execution_count": 114,
   "metadata": {},
   "outputs": [
    {
     "data": {
      "text/plain": [
       "<generator object range_1_to_4 at 0x1117504a0>"
      ]
     },
     "execution_count": 114,
     "metadata": {},
     "output_type": "execute_result"
    }
   ],
   "source": [
    "# \n",
    "range_1_to_4()"
   ]
  },
  {
   "cell_type": "code",
   "execution_count": 119,
   "metadata": {},
   "outputs": [],
   "source": [
    "g = range_1_to_4()"
   ]
  },
  {
   "cell_type": "code",
   "execution_count": 120,
   "metadata": {},
   "outputs": [
    {
     "data": {
      "text/plain": [
       "1"
      ]
     },
     "execution_count": 120,
     "metadata": {},
     "output_type": "execute_result"
    }
   ],
   "source": [
    "next(g)"
   ]
  },
  {
   "cell_type": "code",
   "execution_count": 121,
   "metadata": {},
   "outputs": [
    {
     "data": {
      "text/plain": [
       "2"
      ]
     },
     "execution_count": 121,
     "metadata": {},
     "output_type": "execute_result"
    }
   ],
   "source": [
    "next(g)"
   ]
  },
  {
   "cell_type": "code",
   "execution_count": 122,
   "metadata": {},
   "outputs": [
    {
     "data": {
      "text/plain": [
       "3"
      ]
     },
     "execution_count": 122,
     "metadata": {},
     "output_type": "execute_result"
    }
   ],
   "source": [
    "next(g)"
   ]
  },
  {
   "cell_type": "code",
   "execution_count": 123,
   "metadata": {},
   "outputs": [
    {
     "ename": "StopIteration",
     "evalue": "",
     "output_type": "error",
     "traceback": [
      "\u001b[0;31m---------------------------------------------------------------------------\u001b[0m",
      "\u001b[0;31mStopIteration\u001b[0m                             Traceback (most recent call last)",
      "\u001b[0;32m/var/folders/cf/hj01t_md1j52kbyfrvqn3cx40000gn/T/ipykernel_2311/4253931490.py\u001b[0m in \u001b[0;36m<module>\u001b[0;34m\u001b[0m\n\u001b[0;32m----> 1\u001b[0;31m \u001b[0mnext\u001b[0m\u001b[0;34m(\u001b[0m\u001b[0mg\u001b[0m\u001b[0;34m)\u001b[0m\u001b[0;34m\u001b[0m\u001b[0;34m\u001b[0m\u001b[0m\n\u001b[0m",
      "\u001b[0;31mStopIteration\u001b[0m: "
     ]
    }
   ],
   "source": [
    "next(g)"
   ]
  },
  {
   "cell_type": "code",
   "execution_count": 124,
   "metadata": {},
   "outputs": [],
   "source": [
    "# 제너레이터 표현식(tuple 사용시)\n",
    "g = (i for i in range(1, 4))"
   ]
  },
  {
   "cell_type": "code",
   "execution_count": 125,
   "metadata": {
    "scrolled": false
   },
   "outputs": [
    {
     "data": {
      "text/plain": [
       "<generator object <genexpr> at 0x111750a50>"
      ]
     },
     "execution_count": 125,
     "metadata": {},
     "output_type": "execute_result"
    }
   ],
   "source": [
    "g"
   ]
  },
  {
   "cell_type": "code",
   "execution_count": 128,
   "metadata": {},
   "outputs": [
    {
     "name": "stdout",
     "output_type": "stream",
     "text": [
      "1\n",
      "2\n",
      "3\n"
     ]
    }
   ],
   "source": [
    "for i in g:\n",
    "    print(i)"
   ]
  },
  {
   "cell_type": "code",
   "execution_count": 139,
   "metadata": {},
   "outputs": [],
   "source": [
    "# 무한히 반복자를 순회하는 generator\n",
    "def repeat(반복자):\n",
    "    if 반복자:\n",
    "        while True:\n",
    "            for 반복자개별요소 in 반복자:\n",
    "                yield 반복자개별요소"
   ]
  },
  {
   "cell_type": "code",
   "execution_count": 136,
   "metadata": {},
   "outputs": [
    {
     "data": {
      "text/plain": [
       "[('1', 'a'),\n",
       " ('1', 'b'),\n",
       " ('1', 'a'),\n",
       " ('2', 'b'),\n",
       " ('2', 'a'),\n",
       " ('2', 'b'),\n",
       " ('3', 'a'),\n",
       " ('3', 'b'),\n",
       " ('3', 'a')]"
      ]
     },
     "execution_count": 136,
     "metadata": {},
     "output_type": "execute_result"
    }
   ],
   "source": [
    "# 첫번째 파라미터의 개수 만큼, 원소가 반복됨\n",
    "list(zip('111222333', repeat('ab')))"
   ]
  },
  {
   "cell_type": "code",
   "execution_count": 137,
   "metadata": {
    "scrolled": true
   },
   "outputs": [
    {
     "data": {
      "text/plain": [
       "[(0, 'a'),\n",
       " (1, 'b'),\n",
       " (2, 'c'),\n",
       " (3, 'a'),\n",
       " (4, 'b'),\n",
       " (5, 'c'),\n",
       " (6, 'a'),\n",
       " (7, 'b'),\n",
       " (8, 'c'),\n",
       " (9, 'a')]"
      ]
     },
     "execution_count": 137,
     "metadata": {},
     "output_type": "execute_result"
    }
   ],
   "source": [
    "list(zip(range(10), repeat('abc')))"
   ]
  },
  {
   "cell_type": "markdown",
   "metadata": {},
   "source": [
    "## 1 minute, 스낵 파이썬 - 009. 딕셔너리의 언패킹"
   ]
  },
  {
   "cell_type": "code",
   "execution_count": 140,
   "metadata": {},
   "outputs": [],
   "source": [
    "test = {'one': 100, 'two': 200}"
   ]
  },
  {
   "cell_type": "code",
   "execution_count": 141,
   "metadata": {
    "scrolled": true
   },
   "outputs": [
    {
     "data": {
      "text/plain": [
       "('one', 'two')"
      ]
     },
     "execution_count": 141,
     "metadata": {},
     "output_type": "execute_result"
    }
   ],
   "source": [
    "a, b = test\n",
    "a, b"
   ]
  },
  {
   "cell_type": "code",
   "execution_count": 142,
   "metadata": {},
   "outputs": [],
   "source": [
    "test_ = [{'one': 100, 'two': 200}, {'three': 300, 'four': 400}]"
   ]
  },
  {
   "cell_type": "code",
   "execution_count": 143,
   "metadata": {},
   "outputs": [
    {
     "name": "stdout",
     "output_type": "stream",
     "text": [
      "one two\n",
      "three four\n"
     ]
    }
   ],
   "source": [
    "for i, j in test_:\n",
    "    print(i, j)"
   ]
  },
  {
   "cell_type": "code",
   "execution_count": 144,
   "metadata": {},
   "outputs": [
    {
     "data": {
      "text/plain": [
       "('two', 'one')"
      ]
     },
     "execution_count": 144,
     "metadata": {},
     "output_type": "execute_result"
    }
   ],
   "source": [
    "a, b = b, a\n",
    "a, b"
   ]
  },
  {
   "cell_type": "code",
   "execution_count": 152,
   "metadata": {},
   "outputs": [
    {
     "data": {
      "text/plain": [
       "(100, 200)"
      ]
     },
     "execution_count": 152,
     "metadata": {},
     "output_type": "execute_result"
    }
   ],
   "source": [
    "def 언팩킹(a, b=None):\n",
    "    ##a와 b를 통한 연산\n",
    "    return a, b\n",
    "\n",
    "test = {'a': 100, 'b': 200}\n",
    "\n",
    "# 언팩킹(100,200)\n",
    "언팩킹(**test)"
   ]
  },
  {
   "cell_type": "code",
   "execution_count": 153,
   "metadata": {},
   "outputs": [
    {
     "data": {
      "text/plain": [
       "('a', 'b')"
      ]
     },
     "execution_count": 153,
     "metadata": {},
     "output_type": "execute_result"
    }
   ],
   "source": [
    "def 언팩킹(a, b=None):\n",
    "    ##a와 b를 통한 연산\n",
    "    return a, b\n",
    "\n",
    "test = {'a': 100, 'b': 200}\n",
    "\n",
    "# 언팫킹(a,b)\n",
    "언팩킹(*test)"
   ]
  },
  {
   "cell_type": "code",
   "execution_count": 157,
   "metadata": {},
   "outputs": [
    {
     "data": {
      "text/plain": [
       "({'a': 100, 'b': 200}, None)"
      ]
     },
     "execution_count": 157,
     "metadata": {},
     "output_type": "execute_result"
    }
   ],
   "source": [
    "def 언팩킹(a, b=None):\n",
    "    ##a와 b를 통한 연산\n",
    "    return a, b\n",
    "\n",
    "test = {'a': 100, 'b': 200}\n",
    "\n",
    "# 언팩킹(test,None)\n",
    "언팩킹(test)"
   ]
  },
  {
   "cell_type": "markdown",
   "metadata": {},
   "source": [
    "## 1 minute, 스낵 파이썬 - 010. 파이썬의 선과 PEP8\n",
    "- 명확한 것이 함축된 것보다 좋다.\n",
    "- 규칙을 깰정도로 특별한 것은 없다.\n",
    "- 오류는 조용히 넘어가지 안흔다.\n",
    "- 입력될 케이스에서 다양한 케이스를 확인하고 지나간다."
   ]
  },
  {
   "cell_type": "code",
   "execution_count": 164,
   "metadata": {},
   "outputs": [],
   "source": [
    "import this"
   ]
  },
  {
   "cell_type": "markdown",
   "metadata": {},
   "source": [
    "### pep8 요약\n",
    "\n",
    "* 스페이스 4번(탭X) - (참고로 리눅스는 같다.)\n",
    "* 라인 길이는 79자 이하(한글일 때에는 32자 정도로 생각하시면 됩니다.)\n",
    "* 파일 : 함수와 클래스 사이에는 2줄의 빈줄\n",
    "* 클래스 : 메서드 사이에는 1줄의 빈줄\n",
    "* 변수 대입에서 등호 양 옆에 스페이스 1개\n",
    "* 딕셔너리에 키와 콜론 사이에는 공백X, 값과 콜론은 스페이스 1개\n",
    "* 변수명은 스네이크 표기법을 권장\n",
    "* 클래스명은 카멜표기법 권장\n",
    "* 보호해야 하는 인스턴스의 애트리뷰트는 언더바 하나로 시작\n",
    "* 공개되지 말아야 하는 애트리뷰트는 언더바 두개로 시작\n",
    "* 조건문 안에 'len(컨테이너) == 0' 식으로 사용X 'if 컨테이너' 권장\n",
    "* 한 줄의 import 문에서는 하나의 모듈만 가져오기\n",
    "* 소스검사기 : 파이린트, 파이플레이크 - (pep8을 지키고 있는가) 구글에 코드 컨벤션이 공개 되어 있으니 읽어보아라"
   ]
  },
  {
   "cell_type": "code",
   "execution_count": 166,
   "metadata": {},
   "outputs": [],
   "source": [
    "class TestSample:\n",
    "    def __init__(self):\n",
    "        self._case = 0"
   ]
  },
  {
   "cell_type": "code",
   "execution_count": 167,
   "metadata": {
    "scrolled": true
   },
   "outputs": [
    {
     "name": "stdout",
     "output_type": "stream",
     "text": [
      "3\n",
      "2\n",
      "1\n"
     ]
    }
   ],
   "source": [
    "s = [1, 2, 3]\n",
    "while s:\n",
    "    print(s.pop())"
   ]
  },
  {
   "cell_type": "markdown",
   "metadata": {},
   "source": [
    "## 1 minute, 스낵 파이썬 - 011. 0.1+0.2는 0.3이 아니다.(부동소수점 정확도 문제 해결하기)\n",
    "\n",
    "* 위키디피아(정확도 문제 참고) : https://ko.wikipedia.org/wiki/부동소수점\n",
    "* 모든 언어의 부동소수점 문제 : \n",
    "https://0.30000000000000004.com/\n",
    "* 보다 엄밀한 연산을 위해 fractions에 Fraction도 사용가능\n",
    "* 0.1은 이진법으로 표현하면 무한소수, 이 계산을 해결하기 위해선 decimal 모듈이나, math.isclose를 사용"
   ]
  },
  {
   "cell_type": "code",
   "execution_count": 7,
   "metadata": {},
   "outputs": [
    {
     "data": {
      "text/plain": [
       "0.30000000000000004"
      ]
     },
     "execution_count": 7,
     "metadata": {},
     "output_type": "execute_result"
    }
   ],
   "source": [
    "0.1 + 0.2"
   ]
  },
  {
   "cell_type": "code",
   "execution_count": 8,
   "metadata": {},
   "outputs": [
    {
     "data": {
      "text/plain": [
       "0.30000000000000004"
      ]
     },
     "execution_count": 8,
     "metadata": {},
     "output_type": "execute_result"
    }
   ],
   "source": [
    "0.1 * 3"
   ]
  },
  {
   "cell_type": "code",
   "execution_count": 9,
   "metadata": {},
   "outputs": [
    {
     "data": {
      "text/plain": [
       "1.0999999999999999"
      ]
     },
     "execution_count": 9,
     "metadata": {},
     "output_type": "execute_result"
    }
   ],
   "source": [
    "1.2 - 0.1"
   ]
  },
  {
   "cell_type": "code",
   "execution_count": 10,
   "metadata": {},
   "outputs": [
    {
     "data": {
      "text/plain": [
       "0.010000000000000002"
      ]
     },
     "execution_count": 10,
     "metadata": {},
     "output_type": "execute_result"
    }
   ],
   "source": [
    "0.1 * 0.1"
   ]
  },
  {
   "cell_type": "code",
   "execution_count": 11,
   "metadata": {
    "scrolled": true
   },
   "outputs": [
    {
     "data": {
      "text/plain": [
       "False"
      ]
     },
     "execution_count": 11,
     "metadata": {},
     "output_type": "execute_result"
    }
   ],
   "source": [
    "0.1 + 0.2 == 0.3"
   ]
  },
  {
   "cell_type": "code",
   "execution_count": 14,
   "metadata": {
    "scrolled": true
   },
   "outputs": [
    {
     "data": {
      "text/plain": [
       "Decimal('0.1000000000000000055511151231257827021181583404541015625')"
      ]
     },
     "execution_count": 14,
     "metadata": {},
     "output_type": "execute_result"
    }
   ],
   "source": [
    "import decimal\n",
    "\n",
    "decimal.Decimal(0.1) #2진수로는 무한수"
   ]
  },
  {
   "cell_type": "code",
   "execution_count": 16,
   "metadata": {
    "scrolled": false
   },
   "outputs": [
    {
     "data": {
      "text/plain": [
       "Decimal('0.1')"
      ]
     },
     "execution_count": 16,
     "metadata": {},
     "output_type": "execute_result"
    }
   ],
   "source": [
    "decimal.Decimal('0.1') # 10진 연산에서 좀 더 정확한 연산을 위해서 스트링 값을 사용"
   ]
  },
  {
   "cell_type": "code",
   "execution_count": 19,
   "metadata": {},
   "outputs": [
    {
     "data": {
      "text/plain": [
       "Decimal('0.3')"
      ]
     },
     "execution_count": 19,
     "metadata": {},
     "output_type": "execute_result"
    }
   ],
   "source": [
    "decimal.Decimal('0.1') * 3"
   ]
  },
  {
   "cell_type": "code",
   "execution_count": 22,
   "metadata": {},
   "outputs": [
    {
     "data": {
      "text/plain": [
       "False"
      ]
     },
     "execution_count": 22,
     "metadata": {},
     "output_type": "execute_result"
    }
   ],
   "source": [
    "decimal.Decimal('0.1') * 3 == 0.3"
   ]
  },
  {
   "cell_type": "code",
   "execution_count": 23,
   "metadata": {},
   "outputs": [
    {
     "data": {
      "text/plain": [
       "Decimal('0.1000000000000000055511151231257827021181583404541015625')"
      ]
     },
     "execution_count": 23,
     "metadata": {},
     "output_type": "execute_result"
    }
   ],
   "source": [
    "decimal.Decimal(0.1)"
   ]
  },
  {
   "cell_type": "code",
   "execution_count": 24,
   "metadata": {},
   "outputs": [
    {
     "data": {
      "text/plain": [
       "True"
      ]
     },
     "execution_count": 24,
     "metadata": {},
     "output_type": "execute_result"
    }
   ],
   "source": [
    "import math #python 3.5 이상\n",
    "\n",
    "math.isclose(0.1 + 0.2, 0.3)"
   ]
  },
  {
   "cell_type": "code",
   "execution_count": 25,
   "metadata": {
    "scrolled": true
   },
   "outputs": [
    {
     "data": {
      "text/plain": [
       "True"
      ]
     },
     "execution_count": 25,
     "metadata": {},
     "output_type": "execute_result"
    }
   ],
   "source": [
    "import math #python 3.5 이상\n",
    "\n",
    "math.isclose(1.2 - 0.1, 1.1)"
   ]
  },
  {
   "cell_type": "markdown",
   "metadata": {},
   "source": [
    "## 1 minute, 스낵 파이썬 - 012. 배열 이진 분할 알고리즘으로 검색속도 개선하기"
   ]
  },
  {
   "cell_type": "code",
   "execution_count": 42,
   "metadata": {},
   "outputs": [],
   "source": [
    "data = list(range(100000000))"
   ]
  },
  {
   "cell_type": "code",
   "execution_count": 43,
   "metadata": {},
   "outputs": [
    {
     "data": {
      "text/plain": [
       "'\\nbisect.bisect_left(data, 10)# 첫번째 만나는 10\\nbisect.bisect_right(data, 10) # 우리가 원하는 요소의 다음 값\\nbisect.bisect(data, 10) # 우리가 원하는 요소의 다음 값\\nbisect.insort_left(data, 10)\\nbisect.insort_right(data, 10)\\n'"
      ]
     },
     "execution_count": 43,
     "metadata": {},
     "output_type": "execute_result"
    }
   ],
   "source": [
    "# 정렬된 리스트를 사용해야함\n",
    "from bisect import bisect_left\n",
    "\n",
    "'''\n",
    "bisect.bisect_left(data, 10)# 첫번째 만나는 10\n",
    "bisect.bisect_right(data, 10) # 우리가 원하는 요소의 다음 값\n",
    "bisect.bisect(data, 10) # 우리가 원하는 요소의 다음 값\n",
    "bisect.insort_left(data, 10)\n",
    "bisect.insort_right(data, 10)\n",
    "'''"
   ]
  },
  {
   "cell_type": "code",
   "execution_count": 28,
   "metadata": {},
   "outputs": [
    {
     "name": "stdout",
     "output_type": "stream",
     "text": [
      "1.55 s ± 37 ms per loop (mean ± std. dev. of 7 runs, 1 loop each)\n"
     ]
    }
   ],
   "source": [
    "%%timeit\n",
    "\n",
    "data.index(99999999) #리스트에는 find도 없다!"
   ]
  },
  {
   "cell_type": "code",
   "execution_count": 29,
   "metadata": {},
   "outputs": [
    {
     "name": "stdout",
     "output_type": "stream",
     "text": [
      "1.14 µs ± 38.8 ns per loop (mean ± std. dev. of 7 runs, 1000000 loops each)\n"
     ]
    }
   ],
   "source": [
    "%%timeit\n",
    "\n",
    "from bisect import bisect_left #이진탐색\n",
    "\n",
    "bisect_left(data, 99999999) #로그복잡도"
   ]
  },
  {
   "cell_type": "code",
   "execution_count": 32,
   "metadata": {},
   "outputs": [
    {
     "data": {
      "text/plain": [
       "0"
      ]
     },
     "execution_count": 32,
     "metadata": {},
     "output_type": "execute_result"
    }
   ],
   "source": [
    "from bisect import bisect_left\n",
    "# if you want value which is not in list, you get 0\n",
    "bisect_left(data, -100)"
   ]
  },
  {
   "cell_type": "code",
   "execution_count": 37,
   "metadata": {},
   "outputs": [
    {
     "data": {
      "text/plain": [
       "10"
      ]
     },
     "execution_count": 37,
     "metadata": {},
     "output_type": "execute_result"
    }
   ],
   "source": [
    "import bisect\n",
    "bisect.bisect_left(data, 10)# 첫번째 만나는 10\n"
   ]
  },
  {
   "cell_type": "code",
   "execution_count": 38,
   "metadata": {},
   "outputs": [
    {
     "data": {
      "text/plain": [
       "11"
      ]
     },
     "execution_count": 38,
     "metadata": {},
     "output_type": "execute_result"
    }
   ],
   "source": [
    "bisect.bisect_right(data, 10) # 우리가 원하는 요소의 다음 값\n"
   ]
  },
  {
   "cell_type": "code",
   "execution_count": 39,
   "metadata": {},
   "outputs": [
    {
     "data": {
      "text/plain": [
       "11"
      ]
     },
     "execution_count": 39,
     "metadata": {},
     "output_type": "execute_result"
    }
   ],
   "source": [
    "bisect.bisect(data, 10) # 우리가 원하는 요소의 다음 값"
   ]
  },
  {
   "cell_type": "code",
   "execution_count": 40,
   "metadata": {},
   "outputs": [],
   "source": [
    "bisect.insort_left(data, 10)"
   ]
  },
  {
   "cell_type": "code",
   "execution_count": 41,
   "metadata": {},
   "outputs": [],
   "source": [
    "bisect.insort_right(data, 10)\n"
   ]
  },
  {
   "cell_type": "code",
   "execution_count": null,
   "metadata": {},
   "outputs": [],
   "source": []
  },
  {
   "cell_type": "markdown",
   "metadata": {},
   "source": [
    "## 1 minute, 스낵 파이썬 - 013. 클로저를 활용한 환율 변환기로 알아보는 free variable"
   ]
  },
  {
   "cell_type": "code",
   "execution_count": 50,
   "metadata": {},
   "outputs": [],
   "source": [
    "# a는 함수를 리턴한다\n",
    "def a(x):\n",
    "    def b(y):\n",
    "        return y ** x\n",
    "    return b"
   ]
  },
  {
   "cell_type": "code",
   "execution_count": 51,
   "metadata": {},
   "outputs": [
    {
     "data": {
      "text/plain": [
       "100"
      ]
     },
     "execution_count": 51,
     "metadata": {},
     "output_type": "execute_result"
    }
   ],
   "source": [
    "# 따라서 test 에는 함수가 할당된다.\n",
    "\n",
    "test = a(2)\n",
    "test(10)"
   ]
  },
  {
   "cell_type": "code",
   "execution_count": 52,
   "metadata": {},
   "outputs": [
    {
     "data": {
      "text/plain": [
       "1000"
      ]
     },
     "execution_count": 52,
     "metadata": {},
     "output_type": "execute_result"
    }
   ],
   "source": [
    "test = a(3)\n",
    "test(10)"
   ]
  },
  {
   "cell_type": "code",
   "execution_count": 53,
   "metadata": {},
   "outputs": [
    {
     "data": {
      "text/plain": [
       "100"
      ]
     },
     "execution_count": 53,
     "metadata": {},
     "output_type": "execute_result"
    }
   ],
   "source": [
    "def a(x):\n",
    "    return lambda y:y**x\n",
    "\n",
    "test = a(2)\n",
    "test(10)"
   ]
  },
  {
   "cell_type": "code",
   "execution_count": 54,
   "metadata": {},
   "outputs": [
    {
     "data": {
      "text/plain": [
       "1000"
      ]
     },
     "execution_count": 54,
     "metadata": {},
     "output_type": "execute_result"
    }
   ],
   "source": [
    "test = a(3)\n",
    "test(10)"
   ]
  },
  {
   "cell_type": "markdown",
   "metadata": {},
   "source": [
    "- free_variable\n",
    "    - 인스턴스에 binding 되지 않는다!!\n",
    "    - 할당 -> return 되면서, 지역 변수가 아니게 되었다. "
   ]
  },
  {
   "cell_type": "code",
   "execution_count": 57,
   "metadata": {},
   "outputs": [],
   "source": [
    "# 재사용성\n",
    "# 연산 속도 상승(마치 메모이제이션처럼 사용하기 위해)\n",
    "def 환율변환기(나라, 환율):\n",
    "    변환된환율 = [] #free variable(지역 범위가 사라져서 범위가 바인된 안됨)\n",
    "    def 계산기(원):\n",
    "        변환된환율.append(나라)\n",
    "        return f'입력값 : {나라}, 변환값 : {format(환율 * 원, \",\")}원, {변환된환율}'\n",
    "    return 계산기"
   ]
  },
  {
   "cell_type": "code",
   "execution_count": 58,
   "metadata": {},
   "outputs": [
    {
     "data": {
      "text/plain": [
       "\"입력값 : 미국, 변환값 : 100,000원, ['미국']\""
      ]
     },
     "execution_count": 58,
     "metadata": {},
     "output_type": "execute_result"
    }
   ],
   "source": [
    "#\n",
    "달러 = 환율변환기('미국', 1000)\n",
    "달러(100)"
   ]
  },
  {
   "cell_type": "code",
   "execution_count": 59,
   "metadata": {},
   "outputs": [
    {
     "data": {
      "text/plain": [
       "\"입력값 : 일본, 변환값 : 1,000원, ['일본']\""
      ]
     },
     "execution_count": 59,
     "metadata": {},
     "output_type": "execute_result"
    }
   ],
   "source": [
    "엔 = 환율변환기('일본', 10)\n",
    "엔(100)"
   ]
  },
  {
   "cell_type": "code",
   "execution_count": 61,
   "metadata": {},
   "outputs": [
    {
     "data": {
      "text/plain": [
       "['__annotations__',\n",
       " '__call__',\n",
       " '__class__',\n",
       " '__closure__',\n",
       " '__code__',\n",
       " '__defaults__',\n",
       " '__delattr__',\n",
       " '__dict__',\n",
       " '__dir__',\n",
       " '__doc__',\n",
       " '__eq__',\n",
       " '__format__',\n",
       " '__ge__',\n",
       " '__get__',\n",
       " '__getattribute__',\n",
       " '__globals__',\n",
       " '__gt__',\n",
       " '__hash__',\n",
       " '__init__',\n",
       " '__init_subclass__',\n",
       " '__kwdefaults__',\n",
       " '__le__',\n",
       " '__lt__',\n",
       " '__module__',\n",
       " '__name__',\n",
       " '__ne__',\n",
       " '__new__',\n",
       " '__qualname__',\n",
       " '__reduce__',\n",
       " '__reduce_ex__',\n",
       " '__repr__',\n",
       " '__setattr__',\n",
       " '__sizeof__',\n",
       " '__str__',\n",
       " '__subclasshook__']"
      ]
     },
     "execution_count": 61,
     "metadata": {},
     "output_type": "execute_result"
    }
   ],
   "source": [
    "# 없다!!\n",
    "dir(엔)"
   ]
  },
  {
   "cell_type": "code",
   "execution_count": 62,
   "metadata": {},
   "outputs": [
    {
     "data": {
      "text/plain": [
       "('원',)"
      ]
     },
     "execution_count": 62,
     "metadata": {},
     "output_type": "execute_result"
    }
   ],
   "source": [
    "엔.__code__.co_varnames"
   ]
  },
  {
   "cell_type": "code",
   "execution_count": 63,
   "metadata": {
    "scrolled": true
   },
   "outputs": [
    {
     "data": {
      "text/plain": [
       "('나라', '변환된환율', '환율')"
      ]
     },
     "execution_count": 63,
     "metadata": {},
     "output_type": "execute_result"
    }
   ],
   "source": [
    "엔.__code__.co_freevars"
   ]
  },
  {
   "cell_type": "markdown",
   "metadata": {},
   "source": [
    "## 1 minute, 스낵 파이썬 - 014. heapq는 얼마나 빠른가?\n",
    "- heap queue 빠르다!!\n",
    "* 원소의 추가 : heapq.heappush(heap, 추가할_값)\n",
    "* 원소의 삭제 : heapq.heappop(heap)\n",
    "- 속도(빠른순) :  힙큐, 컴프리헨션 but 그렇게 차이나는 것은 아니다."
   ]
  },
  {
   "cell_type": "code",
   "execution_count": 64,
   "metadata": {},
   "outputs": [],
   "source": [
    "import random\n",
    "import heapq"
   ]
  },
  {
   "cell_type": "code",
   "execution_count": 65,
   "metadata": {},
   "outputs": [
    {
     "name": "stdout",
     "output_type": "stream",
     "text": [
      "6.19 s ± 87.3 ms per loop (mean ± std. dev. of 7 runs, 1 loop each)\n"
     ]
    }
   ],
   "source": [
    "%%timeit\n",
    "# list, sort 후, 0,1,2번째 출력\n",
    "heap = [random.randint(1, 100000) for _ in range(5000000)]\n",
    "heap.sort()\n",
    "heap[0], heap[1], heap[2]"
   ]
  },
  {
   "cell_type": "code",
   "execution_count": 66,
   "metadata": {},
   "outputs": [
    {
     "name": "stdout",
     "output_type": "stream",
     "text": [
      "4.69 s ± 41.9 ms per loop (mean ± std. dev. of 7 runs, 1 loop each)\n"
     ]
    }
   ],
   "source": [
    "%%timeit\n",
    "# list_comprehension, heap queue 만들고, 0,1,2번째 \n",
    "# \n",
    "heap = [random.randint(1, 100000) for _ in range(5000000)]\n",
    "heapq.heapify(heap)\n",
    "heapq.heappop(heap), heapq.heappop(heap), heapq.heappop(heap)"
   ]
  },
  {
   "cell_type": "code",
   "execution_count": 67,
   "metadata": {},
   "outputs": [
    {
     "name": "stdout",
     "output_type": "stream",
     "text": [
      "5.56 s ± 100 ms per loop (mean ± std. dev. of 7 runs, 1 loop each)\n"
     ]
    }
   ],
   "source": [
    "%%timeit\n",
    "# heap push보다 list_comprehension이 더 빠르다.\n",
    "heap = []\n",
    "\n",
    "for _ in range(5000000):\n",
    "    heapq.heappush(heap, random.randint(1, 100000))"
   ]
  },
  {
   "cell_type": "code",
   "execution_count": 72,
   "metadata": {
    "scrolled": false
   },
   "outputs": [
    {
     "name": "stdout",
     "output_type": "stream",
     "text": [
      "[9, 3, 5, 1, 7, 5, 8, 6, 7, 3]\n",
      "[1, 3, 5, 3, 7, 5, 8, 6, 7, 9]\n",
      "1 3 3\n",
      "[5, 6, 5, 7, 7, 9, 8]\n"
     ]
    }
   ],
   "source": [
    "heap = [random.randint(1, 10) for _ in range(10)]\n",
    "print(heap) # line 1\n",
    "heapq.heapify(heap)\n",
    "print(heap) # line 2\n",
    "# heap pop을 할 때, 가장 작은 값을 가져오는 것은 맞지만, 삭제하고 가져오는 것이기 때문에, 기존 리스트에서는 삭제가 된다.\n",
    "# heap pop 할 때, 정렬 -> 삭제, pop\n",
    "print(heapq.heappop(heap), heapq.heappop(heap), heapq.heappop(heap))\n",
    "print(heap)"
   ]
  },
  {
   "cell_type": "markdown",
   "metadata": {},
   "source": [
    "- list comprehension와 heapq가 그렇게 차이나는 것은 아니다!!"
   ]
  },
  {
   "cell_type": "code",
   "execution_count": 73,
   "metadata": {},
   "outputs": [],
   "source": [
    "# list comprehension compared\n",
    "heap = [random.randint(1, 100000) for _ in range(5000000)]"
   ]
  },
  {
   "cell_type": "code",
   "execution_count": 74,
   "metadata": {},
   "outputs": [
    {
     "name": "stdout",
     "output_type": "stream",
     "text": [
      "207 ms ± 13.1 ms per loop (mean ± std. dev. of 7 runs, 1 loop each)\n"
     ]
    }
   ],
   "source": [
    "%%timeit\n",
    "\n",
    "heap.sort()\n",
    "heap[0], heap[1], heap[2]"
   ]
  },
  {
   "cell_type": "code",
   "execution_count": 75,
   "metadata": {},
   "outputs": [],
   "source": [
    "heap = [random.randint(1, 100000) for _ in range(5000000)]"
   ]
  },
  {
   "cell_type": "code",
   "execution_count": 76,
   "metadata": {
    "scrolled": true
   },
   "outputs": [
    {
     "name": "stdout",
     "output_type": "stream",
     "text": [
      "197 ms ± 8.5 ms per loop (mean ± std. dev. of 7 runs, 1 loop each)\n"
     ]
    }
   ],
   "source": [
    "%%timeit\n",
    "\n",
    "heapq.heapify(heap)\n",
    "heapq.heappop(heap), heapq.heappop(heap), heapq.heappop(heap)"
   ]
  },
  {
   "cell_type": "markdown",
   "metadata": {},
   "source": [
    "## 1 minute, 스낵 파이썬 - 015. 독스트링(Documentation string)으로 정확하고 빠르게 개발합시다.(PEP 257)\n",
    "\n",
    "* PEP 257 전문 (https://www.python.org/dev/peps/pep-0257/)\n",
    "* 객체를(클래스, 함수, 메서드, 모듈) 설명하는 한 문장을 가장 앞에 배치\n",
    "* 큰 따옴표(작은따옴표 x)\n",
    "* 예외 발생에 대한 상황과 설명"
   ]
  },
  {
   "cell_type": "code",
   "execution_count": 80,
   "metadata": {},
   "outputs": [],
   "source": [
    "def 제곱(수):\n",
    "    \"\"\"입력된 값을 제곱하는 함수\"\"\"\n",
    "    return 수**2"
   ]
  },
  {
   "cell_type": "code",
   "execution_count": 81,
   "metadata": {},
   "outputs": [],
   "source": [
    "class SearchTree:\n",
    "    \"\"\"서비스의 검색속도 개선을 위한 검색 트리\"\"\"\n",
    "    pass"
   ]
  },
  {
   "cell_type": "code",
   "execution_count": 82,
   "metadata": {},
   "outputs": [],
   "source": [
    "#PEP 257 예제\n",
    "def foo():\n",
    "    \"\"\"\n",
    "    This is the second line of the docstring.\n",
    "    \"\"\""
   ]
  },
  {
   "cell_type": "code",
   "execution_count": 83,
   "metadata": {},
   "outputs": [
    {
     "data": {
      "text/plain": [
       "'입력된 값을 제곱하는 함수'"
      ]
     },
     "execution_count": 83,
     "metadata": {},
     "output_type": "execute_result"
    }
   ],
   "source": [
    "제곱.__doc__"
   ]
  },
  {
   "cell_type": "code",
   "execution_count": 87,
   "metadata": {},
   "outputs": [
    {
     "data": {
      "text/plain": [
       "'\\n    This is the second line of the docstring.\\n    '"
      ]
     },
     "execution_count": 87,
     "metadata": {},
     "output_type": "execute_result"
    }
   ],
   "source": [
    "# 이렇게 사용하지 마세요. \"\"\"여기서 설명하시오\"\"\"\n",
    "foo.__doc__"
   ]
  },
  {
   "cell_type": "code",
   "execution_count": 88,
   "metadata": {},
   "outputs": [
    {
     "data": {
      "text/plain": [
       "<function __main__.제곱(수)>"
      ]
     },
     "execution_count": 88,
     "metadata": {},
     "output_type": "execute_result"
    }
   ],
   "source": [
    "제곱 #shif + tab을 누르면 docstring이 나옴!"
   ]
  },
  {
   "cell_type": "markdown",
   "metadata": {},
   "source": [
    "* docstring을 wiki처럼! - 스핑크스(https://www.sphinx-doc.org)\n",
    "* 무려 Python의 공식홈페이지가 스핑크스로 만들어졌습니다!\n",
    "\n"
   ]
  },
  {
   "attachments": {
    "%E1%84%89%E1%85%B3%E1%84%8F%E1%85%B3%E1%84%85%E1%85%B5%E1%86%AB%E1%84%89%E1%85%A3%E1%86%BA%202021-09-22%20%E1%84%8B%E1%85%A9%E1%84%8C%E1%85%A5%E1%86%AB%2012.09.30.png": {
     "image/png": "[encoded data removed]"
    }
   },
   "cell_type": "markdown",
   "metadata": {},
   "source": [
    "![%E1%84%89%E1%85%B3%E1%84%8F%E1%85%B3%E1%84%85%E1%85%B5%E1%86%AB%E1%84%89%E1%85%A3%E1%86%BA%202021-09-22%20%E1%84%8B%E1%85%A9%E1%84%8C%E1%85%A5%E1%86%AB%2012.09.30.png](attachment:%E1%84%89%E1%85%B3%E1%84%8F%E1%85%B3%E1%84%85%E1%85%B5%E1%86%AB%E1%84%89%E1%85%A3%E1%86%BA%202021-09-22%20%E1%84%8B%E1%85%A9%E1%84%8C%E1%85%A5%E1%86%AB%2012.09.30.png)"
   ]
  },
  {
   "cell_type": "code",
   "execution_count": 93,
   "metadata": {
    "scrolled": true
   },
   "outputs": [
    {
     "name": "stdout",
     "output_type": "stream",
     "text": [
      "Help on function helloworld in module hello:\n",
      "\n",
      "helloworld()\n",
      "    hello world 출력하는 함수\n",
      "\n"
     ]
    }
   ],
   "source": [
    "from hello import helloworld\n",
    "# help 사용\n",
    "help(helloworld)"
   ]
  },
  {
   "cell_type": "markdown",
   "metadata": {},
   "source": [
    "## 1 minute, 스낵 파이썬 - 016. 프로파일링을 통한 코드 최적화 팁\n",
    "\n",
    "* 이 챕터에서 다룰 내용 : 프로파일(https://docs.python.org/ko/3/library/profile.html)\n",
    "* snakeviz 사용한 보고서 생성(https://jiffyclub.github.io/snakeviz/)\n",
    "\n",
    "---\n",
    "\n",
    "* 처리 속도 측정 후 가장 속도 개선이 필요한 부분부터 개선해나가는 것이 좋습니다. 통상 아주 짧은 반복문 등은 개선할 여지가 더이상 없을 가능성이 크니까요.\n",
    "* 반복문을 사용하지 않고 문제를 해결할 수 있는 방법이 있는지 찾습니다.(zip, map, filter 등을 사용)\n",
    "* 파이썬의 내장함수를 사용합니다.\n",
    "* 파이썬의 내장함수보다 빠른 라이브러리가 있는지 찾습니다.\n",
    "    - numpy, pandas는 파이썬에 비해 엄청 빠르다.\n",
    "* 전역 변수를 사용하면 느려집니다. 지역변수를 사용하세요. global 사용을 권장하지 않습니다.\n",
    "* 가비지 컬렉션이 있지만, 사용이 끝난 변수가 원시 객체일 때에는 메모리 영역을 캐시로 유지하는 경우가 있으니 크기가 큰 데이터는 del 키워드를 사용하여 삭제하거나 함수 안에서 사용하여 함수가 끝날 때 삭제되도록 유도합니다.\n",
    "    - 메모리를 무조건 반환해주진 않는다. 그래서 del로 반환을 유도,\n",
    "* numpy나 pandas에서 in-place로 원본을 직접 수정하거나 사본생성을 하는 flatten같은 것은 사본 생성을 안하는 ravel로 대체합니다.\n",
    "    - in-place 사용 권장\n",
    "    - 사본 생성을 하지 않는 것이 좋다.(flatten -> ravel)"
   ]
  },
  {
   "cell_type": "code",
   "execution_count": 94,
   "metadata": {},
   "outputs": [
    {
     "name": "stdout",
     "output_type": "stream",
     "text": [
      "         16473 function calls (14474 primitive calls) in 0.850 seconds\n",
      "\n",
      "   Ordered by: standard name\n",
      "\n",
      "   ncalls  tottime  percall  cumtime  percall filename:lineno(function)\n",
      "        1    0.000    0.000    0.000    0.000 1722184100.py:10(문자열거꾸로_슬라이싱)\n",
      "        1    0.000    0.000    0.000    0.000 1722184100.py:13(문자열거꾸로_반복문)\n",
      "        1    0.000    0.000    0.850    0.850 1722184100.py:20(test_set)\n",
      "        1    0.001    0.001    0.006    0.006 1722184100.py:21(<listcomp>)\n",
      "   2000/1    0.843    0.000    0.844    0.844 1722184100.py:4(문자열거꾸로_재귀함수)\n",
      "        1    0.000    0.000    0.850    0.850 <string>:1(<module>)\n",
      "     2000    0.001    0.000    0.004    0.000 random.py:200(randrange)\n",
      "     2000    0.001    0.000    0.004    0.000 random.py:244(randint)\n",
      "     2000    0.002    0.000    0.002    0.000 random.py:250(_randbelow_with_getrandbits)\n",
      "     2000    0.000    0.000    0.000    0.000 {built-in method builtins.chr}\n",
      "        1    0.000    0.000    0.850    0.850 {built-in method builtins.exec}\n",
      "     2000    0.000    0.000    0.000    0.000 {built-in method builtins.len}\n",
      "     2000    0.000    0.000    0.000    0.000 {method 'bit_length' of 'int' objects}\n",
      "        1    0.000    0.000    0.000    0.000 {method 'disable' of '_lsprof.Profiler' objects}\n",
      "     2465    0.000    0.000    0.000    0.000 {method 'getrandbits' of '_random.Random' objects}\n",
      "        1    0.000    0.000    0.000    0.000 {method 'join' of 'str' objects}\n",
      "\n",
      "\n"
     ]
    }
   ],
   "source": [
    "import random\n",
    "import cProfile\n",
    "\n",
    "def 문자열거꾸로_재귀함수(s):\n",
    "    if len(s) == 1:\n",
    "        return s\n",
    "    else:\n",
    "        return 문자열거꾸로_재귀함수(s[1:]) + s[0] \n",
    "\n",
    "def 문자열거꾸로_슬라이싱(s):\n",
    "    return s[::-1]\n",
    "\n",
    "def 문자열거꾸로_반복문(s):\n",
    "    answer = ''\n",
    "    for i in s:\n",
    "        answer = i + answer\n",
    "    return answer\n",
    "\n",
    "\n",
    "def test_set():\n",
    "    s = ''.join([chr(random.randint(97, 122)) for _ in range(2000)])\n",
    "    문자열거꾸로_재귀함수(s)\n",
    "    문자열거꾸로_슬라이싱(s)\n",
    "    문자열거꾸로_반복문(s)\n",
    "\n",
    "\n",
    "cProfile.run(\"test_set()\")"
   ]
  },
  {
   "cell_type": "code",
   "execution_count": null,
   "metadata": {},
   "outputs": [],
   "source": []
  }
 ],
 "metadata": {
  "kernelspec": {
   "display_name": "Python 3 (ipykernel)",
   "language": "python",
   "name": "python3"
  },
  "language_info": {
   "codemirror_mode": {
    "name": "ipython",
    "version": 3
   },
   "file_extension": ".py",
   "mimetype": "text/x-python",
   "name": "python",
   "nbconvert_exporter": "python",
   "pygments_lexer": "ipython3",
   "version": "3.8.12"
  }
 },
 "nbformat": 4,
 "nbformat_minor": 4
}
