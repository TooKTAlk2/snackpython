{
 "cells": [
  {
   "cell_type": "markdown",
   "metadata": {
    "id": "dXT8j2KCciym"
   },
   "source": [
    "## slots을_이용한_class_효율_높이기\n",
    "- slots는 클래스의 매직메소드\n",
    "* slots는 `__dict__`를 생성하지 않음으로 메모리 개선\n",
    "- dict는 메모리 효율이 좋지 않다. -> slots 사용하세요\n",
    "* dict와 유사하거나 좀 더 축소화된 자료형을 만들어서 사용될 때 자주 사용됨"
   ]
  },
  {
   "cell_type": "markdown",
   "metadata": {
    "id": "-sQouOIXUww3"
   },
   "source": [
    "## 테스트 항목\n",
    "\n",
    "```python\n",
    "테스트_기본_리스트 = [list() for i in range(10000)]\n",
    "테스트_작성한_리스트 = [LinkedList() for i in range(10000)]\n",
    "테스트_slot_반영_리스트 = [LinkedList() for i in range(10000)]\n",
    "```\n",
    "- 테스트_기본_리스트 : 149ms\n",
    "- 테스트_링크드리스트 : 766 ms \n",
    "- 테스트_slot_반영_링크드리스트 523 ms 위 보다 20-30% 개선됨(dict만들지 않기 때문에)"
   ]
  },
  {
   "cell_type": "code",
   "execution_count": 1,
   "metadata": {
    "colab": {
     "base_uri": "https://localhost:8080/"
    },
    "id": "a5wGqT2aU8kz",
    "outputId": "538516f5-c568-47ed-d0ab-9e34783949d9"
   },
   "outputs": [
    {
     "name": "stdout",
     "output_type": "stream",
     "text": [
      "149 ms ± 1.28 ms per loop (mean ± std. dev. of 7 runs, 10 loops each)\n"
     ]
    }
   ],
   "source": [
    "%%timeit\n",
    "\n",
    "테스트_기본_리스트 = [list() for i in range(1000000)]"
   ]
  },
  {
   "cell_type": "code",
   "execution_count": 2,
   "metadata": {
    "colab": {
     "base_uri": "https://localhost:8080/"
    },
    "id": "x5uE0MFdVwme",
    "outputId": "454b1a38-1929-4034-c3df-93e4236e0832"
   },
   "outputs": [
    {
     "data": {
      "text/plain": [
       "[10]"
      ]
     },
     "execution_count": 2,
     "metadata": {},
     "output_type": "execute_result"
    }
   ],
   "source": [
    "테스트_기본_리스트 = [list() for i in range(1000000)]\n",
    "\n",
    "테스트_기본_리스트[0].append(10)\n",
    "테스트_기본_리스트[0]"
   ]
  },
  {
   "cell_type": "code",
   "execution_count": 3,
   "metadata": {
    "id": "9RAvI_QCTaH7"
   },
   "outputs": [],
   "source": [
    "class Node:\n",
    "    def __init__(self, data):\n",
    "        self.data = data\n",
    "        self.next = None\n",
    "        \n",
    "class LinkedList:\n",
    "    def __init__(self):\n",
    "        init = Node('init')\n",
    "        self.head = init\n",
    "        self.tail = init\n",
    "        \n",
    "        self.현재노드 = None\n",
    "        self.데이터수 = 0\n",
    "    \n",
    "    def __str__(self):\n",
    "        \n",
    "        현재노드 = self.head\n",
    "        현재노드 = 현재노드.next\n",
    "        s = ''\n",
    "        \n",
    "        for i in range(self.데이터수):\n",
    "            s += f'{현재노드.data}, '\n",
    "            현재노드 = 현재노드.next\n",
    "            \n",
    "        return f'[{s[:-2]}]'\n",
    "    \n",
    "    def append(self, data):\n",
    "        새로운노드 = Node(data)\n",
    "        self.tail.next = 새로운노드\n",
    "        self.tail = 새로운노드\n",
    "        self.데이터수 += 1"
   ]
  },
  {
   "cell_type": "code",
   "execution_count": 5,
   "metadata": {
    "colab": {
     "base_uri": "https://localhost:8080/"
    },
    "id": "wc5YuIPOVLu7",
    "outputId": "303b850f-e1eb-4182-c408-c86eab1fae62"
   },
   "outputs": [
    {
     "name": "stdout",
     "output_type": "stream",
     "text": [
      "766 ms ± 15.1 ms per loop (mean ± std. dev. of 7 runs, 1 loop each)\n"
     ]
    }
   ],
   "source": [
    "%%timeit\n",
    "\n",
    "테스트_작성한_리스트 = [LinkedList() for i in range(1000000)]"
   ]
  },
  {
   "cell_type": "code",
   "execution_count": 6,
   "metadata": {
    "colab": {
     "base_uri": "https://localhost:8080/"
    },
    "id": "EGOerEiKV57U",
    "outputId": "7678d263-2001-4bd5-a3ed-6245f3f1e181"
   },
   "outputs": [
    {
     "name": "stdout",
     "output_type": "stream",
     "text": [
      "[10]\n"
     ]
    }
   ],
   "source": [
    "테스트_기본_리스트 = [LinkedList() for i in range(1000000)]\n",
    "\n",
    "테스트_기본_리스트[0].append(10)\n",
    "print(테스트_기본_리스트[0])"
   ]
  },
  {
   "cell_type": "code",
   "execution_count": 7,
   "metadata": {
    "colab": {
     "base_uri": "https://localhost:8080/"
    },
    "id": "7kvSmv1vXjU6",
    "outputId": "cff98070-881b-40af-ba9b-4ce702afed3f"
   },
   "outputs": [
    {
     "data": {
      "text/plain": [
       "{'head': <__main__.Node at 0x112f2c790>,\n",
       " 'tail': <__main__.Node at 0x112f2c790>,\n",
       " '현재노드': None,\n",
       " '데이터수': 0}"
      ]
     },
     "execution_count": 7,
     "metadata": {},
     "output_type": "execute_result"
    }
   ],
   "source": [
    "test = LinkedList()\n",
    "test.__dict__"
   ]
  },
  {
   "cell_type": "code",
   "execution_count": 8,
   "metadata": {
    "colab": {
     "base_uri": "https://localhost:8080/"
    },
    "id": "bO3M0R3SYeyk",
    "outputId": "c64a68dd-95bd-44ba-d0cd-6373719f5b65"
   },
   "outputs": [
    {
     "data": {
      "text/plain": [
       "['__class__',\n",
       " '__delattr__',\n",
       " '__dict__',\n",
       " '__dir__',\n",
       " '__doc__',\n",
       " '__eq__',\n",
       " '__format__',\n",
       " '__ge__',\n",
       " '__getattribute__',\n",
       " '__gt__',\n",
       " '__hash__',\n",
       " '__init__',\n",
       " '__init_subclass__',\n",
       " '__le__',\n",
       " '__lt__',\n",
       " '__module__',\n",
       " '__ne__',\n",
       " '__new__',\n",
       " '__reduce__',\n",
       " '__reduce_ex__',\n",
       " '__repr__',\n",
       " '__setattr__',\n",
       " '__sizeof__',\n",
       " '__str__',\n",
       " '__subclasshook__',\n",
       " '__weakref__',\n",
       " 'append',\n",
       " 'head',\n",
       " 'tail',\n",
       " '데이터수',\n",
       " '현재노드']"
      ]
     },
     "execution_count": 8,
     "metadata": {},
     "output_type": "execute_result"
    }
   ],
   "source": [
    "dir(test)"
   ]
  },
  {
   "cell_type": "code",
   "execution_count": 9,
   "metadata": {
    "id": "qiOX1ZbiUIjQ"
   },
   "outputs": [],
   "source": [
    "class Node:\n",
    "    __slots__ = ['data', 'next']\n",
    "    def __init__(self, data):\n",
    "        self.data = data\n",
    "        self.next = None\n",
    "        \n",
    "class LinkedList:\n",
    "    __slots__ = ['head', 'tail', '현재노드', '데이터수']\n",
    "\n",
    "    def __init__(self):\n",
    "        init = Node('init')\n",
    "        self.head = init\n",
    "        self.tail = init\n",
    "        \n",
    "        self.현재노드 = None\n",
    "        self.데이터수 = 0\n",
    "    \n",
    "    def __str__(self):\n",
    "        \n",
    "        현재노드 = self.head\n",
    "        현재노드 = 현재노드.next\n",
    "        s = ''\n",
    "        \n",
    "        for i in range(self.데이터수):\n",
    "            s += f'{현재노드.data}, '\n",
    "            현재노드 = 현재노드.next\n",
    "            \n",
    "        return f'[{s[:-2]}]'\n",
    "    \n",
    "    def append(self, data):\n",
    "        새로운노드 = Node(data)\n",
    "        self.tail.next = 새로운노드\n",
    "        self.tail = 새로운노드\n",
    "        self.데이터수 += 1"
   ]
  },
  {
   "cell_type": "code",
   "execution_count": 10,
   "metadata": {
    "colab": {
     "base_uri": "https://localhost:8080/"
    },
    "id": "fMHUZNiLTj_o",
    "outputId": "4efbc3db-4084-4914-ae52-21178b0522d3"
   },
   "outputs": [
    {
     "name": "stdout",
     "output_type": "stream",
     "text": [
      "523 ms ± 14.2 ms per loop (mean ± std. dev. of 7 runs, 1 loop each)\n"
     ]
    }
   ],
   "source": [
    "%%timeit\n",
    "\n",
    "테스트_slot_반영_리스트 = [LinkedList() for i in range(1000000)]"
   ]
  },
  {
   "cell_type": "code",
   "execution_count": 11,
   "metadata": {
    "colab": {
     "base_uri": "https://localhost:8080/"
    },
    "id": "Y4htld25WTe1",
    "outputId": "cf45dc8a-12c6-4d5f-8107-d980ab317d15"
   },
   "outputs": [
    {
     "name": "stdout",
     "output_type": "stream",
     "text": [
      "[10]\n"
     ]
    }
   ],
   "source": [
    "테스트_기본_리스트 = [LinkedList() for i in range(1000000)]\n",
    "\n",
    "테스트_기본_리스트[0].append(10)\n",
    "print(테스트_기본_리스트[0])"
   ]
  },
  {
   "cell_type": "code",
   "execution_count": 12,
   "metadata": {
    "colab": {
     "base_uri": "https://localhost:8080/",
     "height": 185
    },
    "id": "weWWZIWoW9vc",
    "outputId": "d784bfc3-5898-4010-b620-14215955304f"
   },
   "outputs": [
    {
     "ename": "AttributeError",
     "evalue": "'LinkedList' object has no attribute '__dict__'",
     "output_type": "error",
     "traceback": [
      "\u001b[0;31m---------------------------------------------------------------------------\u001b[0m",
      "\u001b[0;31mAttributeError\u001b[0m                            Traceback (most recent call last)",
      "\u001b[0;32m/var/folders/jv/81fmgh2d6h3bpbtwcwcspyjm0000gn/T/ipykernel_5122/3786488972.py\u001b[0m in \u001b[0;36m<module>\u001b[0;34m\u001b[0m\n\u001b[1;32m      1\u001b[0m \u001b[0mtest\u001b[0m \u001b[0;34m=\u001b[0m \u001b[0mLinkedList\u001b[0m\u001b[0;34m(\u001b[0m\u001b[0;34m)\u001b[0m\u001b[0;34m\u001b[0m\u001b[0;34m\u001b[0m\u001b[0m\n\u001b[0;32m----> 2\u001b[0;31m \u001b[0mtest\u001b[0m\u001b[0;34m.\u001b[0m\u001b[0m__dict__\u001b[0m\u001b[0;34m\u001b[0m\u001b[0;34m\u001b[0m\u001b[0m\n\u001b[0m",
      "\u001b[0;31mAttributeError\u001b[0m: 'LinkedList' object has no attribute '__dict__'"
     ]
    }
   ],
   "source": [
    "test = LinkedList()\n",
    "test.__dict__"
   ]
  },
  {
   "cell_type": "code",
   "execution_count": 14,
   "metadata": {
    "colab": {
     "base_uri": "https://localhost:8080/"
    },
    "id": "g8_BF51EYryf",
    "outputId": "e28ed726-181f-4851-e084-dacf4f96750f"
   },
   "outputs": [
    {
     "data": {
      "text/plain": [
       "['__class__',\n",
       " '__delattr__',\n",
       " '__dir__',\n",
       " '__doc__',\n",
       " '__eq__',\n",
       " '__format__',\n",
       " '__ge__',\n",
       " '__getattribute__',\n",
       " '__gt__',\n",
       " '__hash__',\n",
       " '__init__',\n",
       " '__init_subclass__',\n",
       " '__le__',\n",
       " '__lt__',\n",
       " '__module__',\n",
       " '__ne__',\n",
       " '__new__',\n",
       " '__reduce__',\n",
       " '__reduce_ex__',\n",
       " '__repr__',\n",
       " '__setattr__',\n",
       " '__sizeof__',\n",
       " '__slots__',\n",
       " '__str__',\n",
       " '__subclasshook__',\n",
       " 'append',\n",
       " 'head',\n",
       " 'tail',\n",
       " '데이터수',\n",
       " '현재노드']"
      ]
     },
     "execution_count": 14,
     "metadata": {},
     "output_type": "execute_result"
    }
   ],
   "source": [
    "# dir(객체) __dict__ 없는 것을 확인\n",
    "dir(test)"
   ]
  },
  {
   "cell_type": "code",
   "execution_count": null,
   "metadata": {},
   "outputs": [],
   "source": []
  }
 ],
 "metadata": {
  "colab": {
   "name": "022_slots을_이용한_class_효율_높이기.ipynb",
   "provenance": []
  },
  "kernelspec": {
   "display_name": "Python 3 (ipykernel)",
   "language": "python",
   "name": "python3"
  },
  "language_info": {
   "codemirror_mode": {
    "name": "ipython",
    "version": 3
   },
   "file_extension": ".py",
   "mimetype": "text/x-python",
   "name": "python",
   "nbconvert_exporter": "python",
   "pygments_lexer": "ipython3",
   "version": "3.8.12"
  }
 },
 "nbformat": 4,
 "nbformat_minor": 1
}
