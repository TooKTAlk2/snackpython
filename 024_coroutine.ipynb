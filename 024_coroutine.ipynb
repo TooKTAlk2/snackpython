{
 "cells": [
  {
   "cell_type": "markdown",
   "id": "056e7d1f",
   "metadata": {},
   "source": [
    "# 코루틴\n",
    "- 제너레이터의 또다른 형태\n",
    "- 일반적인 제너레이터는  함수를 실행하면서 yield 통해, 값을 하나씩 반환하는 이터레이터 역할\n",
    "- 코루틴은 반대로 값을 외부에서 하나씩 받아서 함수를 실행, send 메소드로 값을 보낼 수 있음\n",
    "- 비동기 프로그래밍에서 사용됨"
   ]
  },
  {
   "cell_type": "code",
   "execution_count": 1,
   "id": "c0d257ff",
   "metadata": {},
   "outputs": [],
   "source": [
    "def get_three_number():\n",
    "    print(\"시작\")\n",
    "    given = (yield)\n",
    "    print(given)\n",
    "    given = (yield)\n",
    "    print(given)\n",
    "    given = (yield)\n",
    "    print(given)\n",
    "    print(\"끝\")"
   ]
  },
  {
   "cell_type": "code",
   "execution_count": null,
   "id": "0ffa3c46",
   "metadata": {},
   "outputs": [],
   "source": []
  },
  {
   "cell_type": "code",
   "execution_count": 2,
   "id": "ee431ab1",
   "metadata": {},
   "outputs": [],
   "source": [
    "test = get_three_number()\n",
    "# 시작\n",
    "# None\n",
    "# None\n",
    "# None\n",
    "# 끝"
   ]
  },
  {
   "cell_type": "code",
   "execution_count": 11,
   "id": "808957b9",
   "metadata": {},
   "outputs": [
    {
     "name": "stdout",
     "output_type": "stream",
     "text": [
      "<generator object get_three_number at 0x10ffe9190>\n"
     ]
    }
   ],
   "source": [
    "print(test)"
   ]
  },
  {
   "cell_type": "code",
   "execution_count": 4,
   "id": "5eb610c7",
   "metadata": {},
   "outputs": [
    {
     "name": "stdout",
     "output_type": "stream",
     "text": [
      "시작\n"
     ]
    }
   ],
   "source": [
    "next(test)"
   ]
  },
  {
   "cell_type": "code",
   "execution_count": 5,
   "id": "4eda4c9b",
   "metadata": {},
   "outputs": [
    {
     "name": "stdout",
     "output_type": "stream",
     "text": [
      "None\n"
     ]
    }
   ],
   "source": [
    "next(test)"
   ]
  },
  {
   "cell_type": "code",
   "execution_count": 6,
   "id": "4e7723ac",
   "metadata": {},
   "outputs": [
    {
     "name": "stdout",
     "output_type": "stream",
     "text": [
      "None\n"
     ]
    }
   ],
   "source": [
    "next(test)"
   ]
  },
  {
   "cell_type": "code",
   "execution_count": 7,
   "id": "e5e02dbb",
   "metadata": {
    "scrolled": true
   },
   "outputs": [
    {
     "name": "stdout",
     "output_type": "stream",
     "text": [
      "None\n",
      "끝\n"
     ]
    },
    {
     "ename": "StopIteration",
     "evalue": "",
     "output_type": "error",
     "traceback": [
      "\u001b[0;31m---------------------------------------------------------------------------\u001b[0m",
      "\u001b[0;31mStopIteration\u001b[0m                             Traceback (most recent call last)",
      "\u001b[0;32m/var/folders/jv/81fmgh2d6h3bpbtwcwcspyjm0000gn/T/ipykernel_5693/4048446328.py\u001b[0m in \u001b[0;36m<module>\u001b[0;34m\u001b[0m\n\u001b[0;32m----> 1\u001b[0;31m \u001b[0mnext\u001b[0m\u001b[0;34m(\u001b[0m\u001b[0mtest\u001b[0m\u001b[0;34m)\u001b[0m\u001b[0;34m\u001b[0m\u001b[0;34m\u001b[0m\u001b[0m\n\u001b[0m",
      "\u001b[0;31mStopIteration\u001b[0m: "
     ]
    }
   ],
   "source": [
    "next(test)"
   ]
  },
  {
   "cell_type": "markdown",
   "id": "5628a3a6",
   "metadata": {},
   "source": [
    "coroutine 예제"
   ]
  },
  {
   "cell_type": "code",
   "execution_count": 8,
   "id": "036626ec",
   "metadata": {},
   "outputs": [],
   "source": [
    "def get_three_number():\n",
    "    print(\"시작\")\n",
    "    given = (yield)\n",
    "    print(given)\n",
    "    given = (yield)\n",
    "    print(given)\n",
    "    given = (yield)\n",
    "    print(given)\n",
    "    print(\"끝\")\n",
    "test = get_three_number()\n"
   ]
  },
  {
   "cell_type": "code",
   "execution_count": 9,
   "id": "649f61eb",
   "metadata": {},
   "outputs": [
    {
     "name": "stdout",
     "output_type": "stream",
     "text": [
      "시작\n"
     ]
    }
   ],
   "source": [
    "next(test)"
   ]
  },
  {
   "cell_type": "code",
   "execution_count": 10,
   "id": "bf263e37",
   "metadata": {},
   "outputs": [
    {
     "name": "stdout",
     "output_type": "stream",
     "text": [
      "10\n"
     ]
    }
   ],
   "source": [
    "test.send(10)"
   ]
  },
  {
   "cell_type": "code",
   "execution_count": 11,
   "id": "2e1e35a2",
   "metadata": {},
   "outputs": [
    {
     "name": "stdout",
     "output_type": "stream",
     "text": [
      "100\n"
     ]
    }
   ],
   "source": [
    "test.send(100)"
   ]
  },
  {
   "cell_type": "code",
   "execution_count": 12,
   "id": "86fc9a03",
   "metadata": {},
   "outputs": [
    {
     "name": "stdout",
     "output_type": "stream",
     "text": [
      "1000\n",
      "끝\n"
     ]
    },
    {
     "ename": "StopIteration",
     "evalue": "",
     "output_type": "error",
     "traceback": [
      "\u001b[0;31m---------------------------------------------------------------------------\u001b[0m",
      "\u001b[0;31mStopIteration\u001b[0m                             Traceback (most recent call last)",
      "\u001b[0;32m/var/folders/jv/81fmgh2d6h3bpbtwcwcspyjm0000gn/T/ipykernel_5693/1710969784.py\u001b[0m in \u001b[0;36m<module>\u001b[0;34m\u001b[0m\n\u001b[0;32m----> 1\u001b[0;31m \u001b[0mtest\u001b[0m\u001b[0;34m.\u001b[0m\u001b[0msend\u001b[0m\u001b[0;34m(\u001b[0m\u001b[0;36m1000\u001b[0m\u001b[0;34m)\u001b[0m\u001b[0;34m\u001b[0m\u001b[0;34m\u001b[0m\u001b[0m\n\u001b[0m",
      "\u001b[0;31mStopIteration\u001b[0m: "
     ]
    }
   ],
   "source": [
    "test.send(1000)"
   ]
  },
  {
   "cell_type": "code",
   "execution_count": 45,
   "id": "a1322537",
   "metadata": {},
   "outputs": [],
   "source": [
    "def get_three_number():\n",
    "    print(\"시작\")\n",
    "    given = (yield)\n",
    "    print(given)\n",
    "    given = (yield)\n",
    "    print(given)\n",
    "    given = (yield)\n",
    "    print(given)\n",
    "    print(\"끝\")\n",
    "test = get_three_number()\n"
   ]
  },
  {
   "cell_type": "code",
   "execution_count": 46,
   "id": "da161671",
   "metadata": {},
   "outputs": [
    {
     "name": "stdout",
     "output_type": "stream",
     "text": [
      "시작\n"
     ]
    }
   ],
   "source": [
    "test.send(None)"
   ]
  },
  {
   "cell_type": "code",
   "execution_count": 47,
   "id": "eaa54a6c",
   "metadata": {},
   "outputs": [
    {
     "name": "stdout",
     "output_type": "stream",
     "text": [
      "10\n"
     ]
    }
   ],
   "source": [
    "test.send(10)"
   ]
  },
  {
   "cell_type": "code",
   "execution_count": 48,
   "id": "58b138cb",
   "metadata": {},
   "outputs": [
    {
     "name": "stdout",
     "output_type": "stream",
     "text": [
      "100\n"
     ]
    }
   ],
   "source": [
    "test.send(100)"
   ]
  },
  {
   "cell_type": "code",
   "execution_count": 49,
   "id": "b1879f54",
   "metadata": {},
   "outputs": [
    {
     "name": "stdout",
     "output_type": "stream",
     "text": [
      "1000\n",
      "끝\n"
     ]
    },
    {
     "ename": "StopIteration",
     "evalue": "",
     "output_type": "error",
     "traceback": [
      "\u001b[0;31m---------------------------------------------------------------------------\u001b[0m",
      "\u001b[0;31mStopIteration\u001b[0m                             Traceback (most recent call last)",
      "\u001b[0;32m/var/folders/jv/81fmgh2d6h3bpbtwcwcspyjm0000gn/T/ipykernel_5693/3998369784.py\u001b[0m in \u001b[0;36m<module>\u001b[0;34m\u001b[0m\n\u001b[1;32m      1\u001b[0m \u001b[0;31m# given 변수값이 끝날때까지 살아있다.\u001b[0m\u001b[0;34m\u001b[0m\u001b[0;34m\u001b[0m\u001b[0;34m\u001b[0m\u001b[0m\n\u001b[0;32m----> 2\u001b[0;31m \u001b[0mtest\u001b[0m\u001b[0;34m.\u001b[0m\u001b[0msend\u001b[0m\u001b[0;34m(\u001b[0m\u001b[0;36m1000\u001b[0m\u001b[0;34m)\u001b[0m\u001b[0;34m\u001b[0m\u001b[0;34m\u001b[0m\u001b[0m\n\u001b[0m",
      "\u001b[0;31mStopIteration\u001b[0m: "
     ]
    }
   ],
   "source": [
    "# given 변수값이 끝날때까지 살아있다.\n",
    "test.send(1000)"
   ]
  },
  {
   "cell_type": "code",
   "execution_count": 63,
   "id": "a09944ae",
   "metadata": {},
   "outputs": [],
   "source": [
    "def get_three_number():\n",
    "    given = 0\n",
    "    print(\"시작\")\n",
    "    given = (yield given)\n",
    "    print(f\"받은 값 1: {given}\")\n",
    "    given += 1\n",
    "    given = (yield given)\n",
    "    print(f\"받은 값 2: {given}\")\n",
    "    given += 2\n",
    "    given = (yield given)\n",
    "    print(f\"받은 값 3: {given}\")\n",
    "    given += 3\n",
    "    yield given\n",
    "test = get_three_number()\n"
   ]
  },
  {
   "cell_type": "code",
   "execution_count": 64,
   "id": "f13f1e21",
   "metadata": {},
   "outputs": [],
   "source": [
    "g = get_three_number()"
   ]
  },
  {
   "cell_type": "code",
   "execution_count": 65,
   "id": "b243bc05",
   "metadata": {},
   "outputs": [
    {
     "name": "stdout",
     "output_type": "stream",
     "text": [
      "시작\n"
     ]
    },
    {
     "data": {
      "text/plain": [
       "0"
      ]
     },
     "execution_count": 65,
     "metadata": {},
     "output_type": "execute_result"
    }
   ],
   "source": [
    "g.send(None)\n",
    "# yield given 까지 수행"
   ]
  },
  {
   "cell_type": "code",
   "execution_count": 66,
   "id": "4a57fc25",
   "metadata": {},
   "outputs": [
    {
     "name": "stdout",
     "output_type": "stream",
     "text": [
      "받은 값 1: 10\n"
     ]
    },
    {
     "data": {
      "text/plain": [
       "11"
      ]
     },
     "execution_count": 66,
     "metadata": {},
     "output_type": "execute_result"
    }
   ],
   "source": [
    "g.send(10)"
   ]
  },
  {
   "cell_type": "code",
   "execution_count": 67,
   "id": "5fb43d4c",
   "metadata": {},
   "outputs": [
    {
     "name": "stdout",
     "output_type": "stream",
     "text": [
      "받은 값 2: 100\n"
     ]
    },
    {
     "data": {
      "text/plain": [
       "102"
      ]
     },
     "execution_count": 67,
     "metadata": {},
     "output_type": "execute_result"
    }
   ],
   "source": [
    "g.send(100)"
   ]
  },
  {
   "cell_type": "code",
   "execution_count": 68,
   "id": "a7d01f82",
   "metadata": {},
   "outputs": [
    {
     "name": "stdout",
     "output_type": "stream",
     "text": [
      "받은 값 3: 1000\n"
     ]
    },
    {
     "data": {
      "text/plain": [
       "1003"
      ]
     },
     "execution_count": 68,
     "metadata": {},
     "output_type": "execute_result"
    }
   ],
   "source": [
    "g.send(1000)"
   ]
  },
  {
   "cell_type": "code",
   "execution_count": 69,
   "id": "2f3438a5",
   "metadata": {},
   "outputs": [
    {
     "ename": "StopIteration",
     "evalue": "",
     "output_type": "error",
     "traceback": [
      "\u001b[0;31m---------------------------------------------------------------------------\u001b[0m",
      "\u001b[0;31mStopIteration\u001b[0m                             Traceback (most recent call last)",
      "\u001b[0;32m/var/folders/jv/81fmgh2d6h3bpbtwcwcspyjm0000gn/T/ipykernel_5693/1749649884.py\u001b[0m in \u001b[0;36m<module>\u001b[0;34m\u001b[0m\n\u001b[0;32m----> 1\u001b[0;31m \u001b[0mg\u001b[0m\u001b[0;34m.\u001b[0m\u001b[0msend\u001b[0m\u001b[0;34m(\u001b[0m\u001b[0;32mNone\u001b[0m\u001b[0;34m)\u001b[0m\u001b[0;34m\u001b[0m\u001b[0;34m\u001b[0m\u001b[0m\n\u001b[0m",
      "\u001b[0;31mStopIteration\u001b[0m: "
     ]
    }
   ],
   "source": [
    "g.send(None)"
   ]
  },
  {
   "cell_type": "code",
   "execution_count": null,
   "id": "53a052ff",
   "metadata": {},
   "outputs": [],
   "source": []
  }
 ],
 "metadata": {
  "kernelspec": {
   "display_name": "Python 3 (ipykernel)",
   "language": "python",
   "name": "python3"
  },
  "language_info": {
   "codemirror_mode": {
    "name": "ipython",
    "version": 3
   },
   "file_extension": ".py",
   "mimetype": "text/x-python",
   "name": "python",
   "nbconvert_exporter": "python",
   "pygments_lexer": "ipython3",
   "version": "3.8.12"
  }
 },
 "nbformat": 4,
 "nbformat_minor": 5
}
