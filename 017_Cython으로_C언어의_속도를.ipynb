{
 "cells": [
  {
   "cell_type": "markdown",
   "metadata": {
    "id": "NiErm1KmLisT"
   },
   "source": [
    "1 minute, 스낵 파이썬 - 017. Cython으로 C언어의 속도를!\n",
    "- colab 사용\n",
    "    - test.pyx 에서 만들고 1-1000 만듦\n",
    "    - setup.py 만들고\n",
    "\n",
    "- 결론\n",
    "    - cpython에서 사용하는 것이 list_comprehension보다 빠르다!! "
   ]
  },
  {
   "cell_type": "code",
   "execution_count": 1,
   "metadata": {
    "colab": {
     "base_uri": "https://localhost:8080/"
    },
    "id": "nRY7oS5AK5wa",
    "outputId": "0715d5ad-d4a1-4d61-c83c-9ad5a32921a7"
   },
   "outputs": [
    {
     "name": "stdout",
     "output_type": "stream",
     "text": [
      "Traceback (most recent call last):\r\n",
      "  File \"setup.py\", line 2, in <module>\r\n",
      "    from Cython.Build import cythonize\r\n",
      "ModuleNotFoundError: No module named 'Cython'\r\n"
     ]
    }
   ],
   "source": [
    "!python setup.py build_ext --inplace"
   ]
  },
  {
   "cell_type": "code",
   "execution_count": 2,
   "metadata": {
    "colab": {
     "base_uri": "https://localhost:8080/"
    },
    "id": "m5sZy_EbLF0f",
    "outputId": "08dee002-826c-4109-b57f-5d5f6498160f"
   },
   "outputs": [
    {
     "name": "stdout",
     "output_type": "stream",
     "text": [
      "1 loop, best of 5: 587 ms per loop\n"
     ]
    }
   ],
   "source": [
    "%%timeit\n",
    "\n",
    "import test\n",
    "\n",
    "sum(test.list_append(10000000))"
   ]
  },
  {
   "cell_type": "code",
   "execution_count": 3,
   "metadata": {
    "colab": {
     "base_uri": "https://localhost:8080/"
    },
    "id": "DOuSZhzkMcwm",
    "outputId": "df46855d-e867-4202-b151-edd9edea5b43"
   },
   "outputs": [
    {
     "name": "stdout",
     "output_type": "stream",
     "text": [
      "1 loop, best of 5: 831 ms per loop\n"
     ]
    }
   ],
   "source": [
    "%%timeit\n",
    "\n",
    "sum([i for i in range(10000000)])"
   ]
  }
 ],
 "metadata": {
  "colab": {
   "name": "1 minute, 스낵 파이썬 - 017. Cython으로 C언어의 속도를.ipynb",
   "provenance": []
  },
  "kernelspec": {
   "display_name": "Python 3 (ipykernel)",
   "language": "python",
   "name": "python3"
  },
  "language_info": {
   "codemirror_mode": {
    "name": "ipython",
    "version": 3
   },
   "file_extension": ".py",
   "mimetype": "text/x-python",
   "name": "python",
   "nbconvert_exporter": "python",
   "pygments_lexer": "ipython3",
   "version": "3.8.12"
  }
 },
 "nbformat": 4,
 "nbformat_minor": 1
}
