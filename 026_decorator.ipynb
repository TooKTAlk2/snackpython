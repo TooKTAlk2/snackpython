{
 "cells": [
  {
   "cell_type": "markdown",
   "id": "832e5819",
   "metadata": {},
   "source": [
    "# 1. 일급함수- First class function\n",
    "파이썬의 함수는 일급 객체(First class function) 이다.\n",
    "다음 조건을 만족하면 First class function이다.\n",
    "- 변수에 할당할 수 있다.\n",
    "- 함수의 인자로 전달 될 수 있다.\n",
    "- 함수의 return 값디 될 수 있다.\n",
    "\n",
    "int,float,str,dict,tuple,list,set 뿐만 아니라 함수도 가능하다고!!"
   ]
  },
  {
   "cell_type": "code",
   "execution_count": 5,
   "id": "a22d757b",
   "metadata": {},
   "outputs": [],
   "source": [
    "# 빌트인 함수도 변수로 할당가능\n",
    "인사 = print"
   ]
  },
  {
   "cell_type": "code",
   "execution_count": 6,
   "id": "0a5b4887",
   "metadata": {},
   "outputs": [
    {
     "name": "stdout",
     "output_type": "stream",
     "text": [
      "안녕\n"
     ]
    }
   ],
   "source": [
    "인사('안녕')"
   ]
  },
  {
   "cell_type": "code",
   "execution_count": 9,
   "id": "02f67331",
   "metadata": {},
   "outputs": [],
   "source": [
    "# 인자로 할당 가능\n",
    "def hello():\n",
    "    print('hello')\n",
    "def world():\n",
    "    print('world')\n",
    "def dual(A,B):\n",
    "    A()\n",
    "    B()"
   ]
  },
  {
   "cell_type": "code",
   "execution_count": 11,
   "id": "78480d99",
   "metadata": {},
   "outputs": [
    {
     "name": "stdout",
     "output_type": "stream",
     "text": [
      "hello\n",
      "world\n"
     ]
    }
   ],
   "source": [
    "dual(hello,world)"
   ]
  },
  {
   "cell_type": "code",
   "execution_count": 2,
   "id": "fdda188b",
   "metadata": {},
   "outputs": [],
   "source": [
    "# return 값도 될 수 있따/\n",
    "def binomial_operation(oper_name):\n",
    "    def devide(a,b):\n",
    "        return a/b\n",
    "    \n",
    "    if oper_name == '/':\n",
    "        return devide"
   ]
  },
  {
   "cell_type": "code",
   "execution_count": 13,
   "id": "d1c5e6d5",
   "metadata": {},
   "outputs": [],
   "source": [
    "operand = binomial_operation('/')"
   ]
  },
  {
   "cell_type": "code",
   "execution_count": 15,
   "id": "75e1aeab",
   "metadata": {},
   "outputs": [
    {
     "data": {
      "text/plain": [
       "<function __main__.binomial_operation.<locals>.devide(a, b)>"
      ]
     },
     "execution_count": 15,
     "metadata": {},
     "output_type": "execute_result"
    }
   ],
   "source": [
    "operand"
   ]
  },
  {
   "cell_type": "code",
   "execution_count": 14,
   "id": "312136dd",
   "metadata": {},
   "outputs": [
    {
     "data": {
      "text/plain": [
       "2.0"
      ]
     },
     "execution_count": 14,
     "metadata": {},
     "output_type": "execute_result"
    }
   ],
   "source": [
    "operand(10,5)"
   ]
  },
  {
   "cell_type": "markdown",
   "id": "6b3e81aa",
   "metadata": {},
   "source": [
    "# Higher-Order Function\n",
    "- 방금 first class function의 성질로 , \n",
    "- 함수를 변수에 할당하거나\n",
    "- 함수를 함수의 인자로 넣거나\n",
    "- 함수를 함수의 return 값으로 전달할 수 있다\n",
    "- 여기서 2,3번째 중 함수의 인자나 리턴값으로 전달 될 때,\n",
    "- 함수를 인자로 받는 함수를 High Order Function이라고 한다.\n",
    "- 위 예에서는 dual function이나, binomial_operation가 High order function이라고 한다.\n"
   ]
  },
  {
   "cell_type": "code",
   "execution_count": 3,
   "id": "d39c5fdd",
   "metadata": {},
   "outputs": [],
   "source": [
    "def f1():\n",
    "    print('안녕하세요 f1')\n",
    "def f2():\n",
    "    print(\"hello f2\")"
   ]
  },
  {
   "cell_type": "markdown",
   "id": "304acc3b",
   "metadata": {},
   "source": [
    "위 f1와 f2가 있다. f1와 f2를 실행하면 아래와 같이 된다.\n"
   ]
  },
  {
   "cell_type": "code",
   "execution_count": 4,
   "id": "dbf64223",
   "metadata": {},
   "outputs": [
    {
     "name": "stdout",
     "output_type": "stream",
     "text": [
      "안녕하세요 f1\n",
      "hello f2\n"
     ]
    }
   ],
   "source": [
    "f1()\n",
    "f2()"
   ]
  },
  {
   "cell_type": "markdown",
   "id": "950accdd",
   "metadata": {},
   "source": [
    "하지만 우리는 \n",
    "다음과 같이 함수 시작과  함수 끝을 표시하는 문자열을 넣고 싶다.\n",
    "\n",
    "함수 시작\\\n",
    "안녕하세요 f1\\\n",
    "함수 끝\\\n",
    "함수 시작\\\n",
    "hello f2\\\n",
    "함수 끝"
   ]
  },
  {
   "cell_type": "code",
   "execution_count": 8,
   "id": "f079784d",
   "metadata": {},
   "outputs": [],
   "source": [
    "def f1():\n",
    "    print(\"함수 시작\")\n",
    "    print('안녕하세요 f1')\n",
    "    print(\"함수 끝\")\n",
    "def f2():\n",
    "    print(\"함수 시작\")\n",
    "    print(\"hello f2\")\n",
    "    print(\"함수 끝\")"
   ]
  },
  {
   "cell_type": "code",
   "execution_count": 9,
   "id": "f3ba006d",
   "metadata": {},
   "outputs": [
    {
     "name": "stdout",
     "output_type": "stream",
     "text": [
      "함수 시작\n",
      "안녕하세요 f1\n",
      "함수 끝\n",
      "함수 시작\n",
      "hello f2\n",
      "함수 끝\n"
     ]
    }
   ],
   "source": [
    "f1()\n",
    "f2()"
   ]
  },
  {
   "cell_type": "markdown",
   "id": "4ebf3092",
   "metadata": {},
   "source": [
    "만약 함수가 100개이고, 대부분의 함수에 이렇게 하고싶다면?\n",
    "\n",
    "# 데코레이터\n",
    "- 매개변수 있는 함수, return 값 있는 함수\n",
    "\n"
   ]
  },
  {
   "cell_type": "code",
   "execution_count": null,
   "id": "f0b33eb1",
   "metadata": {},
   "outputs": [],
   "source": []
  },
  {
   "cell_type": "code",
   "execution_count": 58,
   "id": "d959fc11",
   "metadata": {},
   "outputs": [],
   "source": [
    "# 꾸미는 함수가 매개변수, return 값 있는 경우"
   ]
  },
  {
   "cell_type": "code",
   "execution_count": 53,
   "id": "cd012b1f",
   "metadata": {},
   "outputs": [],
   "source": [
    "def print_start_end(f):\n",
    "\n",
    "    def wrapper(*args,**kwargs):\n",
    "        print(*args)\n",
    "        print(f\"{f.__name__} 함수 시작\")\n",
    "        f_rt = f(*args,**kwargs)\n",
    "        print(*args)\n",
    "        print(f\"{f.__name__} 함수 끝\")\n",
    "        return f_rt\n",
    "    return wrapper"
   ]
  },
  {
   "cell_type": "code",
   "execution_count": 54,
   "id": "257096a5",
   "metadata": {},
   "outputs": [],
   "source": [
    "@print_start_end\n",
    "def f1(*args):\n",
    "    print('안녕하세요 f1')\n",
    "    return '안녕하세요 f1'\n",
    "@print_start_end\n",
    "def f2(*args):\n",
    "    print(\"hello f2\")\n",
    "    return \"hello f2\""
   ]
  },
  {
   "cell_type": "code",
   "execution_count": 55,
   "id": "013b9616",
   "metadata": {},
   "outputs": [
    {
     "name": "stdout",
     "output_type": "stream",
     "text": [
      "1 2\n",
      "f1 함수 시작\n",
      "안녕하세요 f1\n",
      "1 2\n",
      "f1 함수 끝\n"
     ]
    }
   ],
   "source": [
    "f_1 = f1(1,2)"
   ]
  },
  {
   "cell_type": "code",
   "execution_count": 56,
   "id": "a0680779",
   "metadata": {},
   "outputs": [
    {
     "name": "stdout",
     "output_type": "stream",
     "text": [
      "3 4\n",
      "f2 함수 시작\n",
      "hello f2\n",
      "3 4\n",
      "f2 함수 끝\n"
     ]
    }
   ],
   "source": [
    "f_2 = f2(3,4)"
   ]
  },
  {
   "cell_type": "code",
   "execution_count": 57,
   "id": "889b101c",
   "metadata": {},
   "outputs": [
    {
     "data": {
      "text/plain": [
       "'안녕하세요 f1'"
      ]
     },
     "execution_count": 57,
     "metadata": {},
     "output_type": "execute_result"
    }
   ],
   "source": [
    "f_1"
   ]
  },
  {
   "cell_type": "code",
   "execution_count": 52,
   "id": "f3a00b37",
   "metadata": {},
   "outputs": [
    {
     "data": {
      "text/plain": [
       "'hello f2'"
      ]
     },
     "execution_count": 52,
     "metadata": {},
     "output_type": "execute_result"
    }
   ],
   "source": [
    "f_2"
   ]
  },
  {
   "cell_type": "markdown",
   "id": "991869fd",
   "metadata": {},
   "source": [
    "- 중첩데코레이터\n"
   ]
  },
  {
   "cell_type": "code",
   "execution_count": 68,
   "id": "905feac3",
   "metadata": {},
   "outputs": [],
   "source": [
    "def deco_1(f):\n",
    "    def wrapper(*args,**kwargs):\n",
    "        print(\"데코레이터 1 시작\")\n",
    "        print(f\"데코 1 {args}\")\n",
    "        result = f(*args,**kwargs)\n",
    "        print(f\"데코 1 result : {result}\")\n",
    "        print(\"데코레이터 1 끝\")\n",
    "        return result\n",
    "    return wrapper\n",
    "def deco_2(f):\n",
    "    def wrapper(*args,**kwargs):\n",
    "        print(\"데코레이터 2 시작\")\n",
    "        print(f\"데코 2 {args}\")\n",
    "        result = f(*args,**kwargs)\n",
    "        print(f\"데코 2 result : {result}\")\n",
    "        print(\"데코레이터 2 끝\")\n",
    "        return result\n",
    "    return wrapper\n",
    "\n",
    "def deco_3(f):\n",
    "    def wrapper(*args,**kwargs):\n",
    "        print(\"데코레이터 3 시작\")\n",
    "        print(f\"데코 3 {args}\")\n",
    "        result = f(*args,**kwargs)\n",
    "        print(f\"데코 3 result : {result}\")\n",
    "        print(\"데코레이터 3 끝\")\n",
    "        return result\n",
    "    return wrapper"
   ]
  },
  {
   "cell_type": "code",
   "execution_count": 69,
   "id": "110947b4",
   "metadata": {},
   "outputs": [],
   "source": [
    "@deco_1\n",
    "@deco_2\n",
    "@deco_3\n",
    "def sum_1_to_n(n):\n",
    "    return n * (n+1) / 2\n",
    "    \n"
   ]
  },
  {
   "cell_type": "code",
   "execution_count": 70,
   "id": "81ce6702",
   "metadata": {},
   "outputs": [
    {
     "name": "stdout",
     "output_type": "stream",
     "text": [
      "데코레이터 1 시작\n",
      "데코 1 (30,)\n",
      "데코레이터 2 시작\n",
      "데코 2 (30,)\n",
      "데코레이터 3 시작\n",
      "데코 3 (30,)\n",
      "데코 3 result : 465.0\n",
      "데코레이터 3 끝\n",
      "데코 2 result : 465.0\n",
      "데코레이터 2 끝\n",
      "데코 1 result : 465.0\n",
      "데코레이터 1 끝\n"
     ]
    }
   ],
   "source": [
    "result = sum_1_to_n(30)"
   ]
  },
  {
   "cell_type": "markdown",
   "id": "f6c01752",
   "metadata": {},
   "source": [
    "### 다중 데코레이터"
   ]
  },
  {
   "cell_type": "code",
   "execution_count": 73,
   "id": "1c71996e",
   "metadata": {},
   "outputs": [
    {
     "name": "stdout",
     "output_type": "stream",
     "text": [
      "result : 130\n"
     ]
    }
   ],
   "source": [
    "def add(f):\n",
    "    def wrapper(*args,**kwargs):\n",
    "        result = f(*args,**kwargs)\n",
    "        return result + 100\n",
    "    return wrapper\n",
    "\n",
    "@add\n",
    "def plus(a,b):\n",
    "    return a+b\n",
    "\n",
    "result = plus(10,20)\n",
    "# 130\n",
    "print(f\"result : {result}\")"
   ]
  },
  {
   "cell_type": "code",
   "execution_count": 76,
   "id": "2375d7f8",
   "metadata": {},
   "outputs": [
    {
     "name": "stdout",
     "output_type": "stream",
     "text": [
      "result : 1030\n"
     ]
    }
   ],
   "source": [
    "# 위에서 100을 더하는 부분을 동적으로 할 거야, 즉 데코레이터에 직접 argument를 전달할 꺼야,\n",
    "# 한번 더 감싸기\n",
    "def add(n):\n",
    "    def decorator(f):\n",
    "        def wrapper(*args,**kwargs):\n",
    "            result = f(*args,**kwargs)\n",
    "            return result + n\n",
    "        return wrapper\n",
    "    return decorator\n",
    "\n",
    "# 데코레이터\n",
    "@add(1000)\n",
    "def plus(a,b):\n",
    "    return a+b\n",
    "\n",
    "result = plus(10,20)\n",
    "# 1030\n",
    "print(f\"result : {result}\")"
   ]
  },
  {
   "cell_type": "markdown",
   "id": "72843ba4",
   "metadata": {},
   "source": [
    "## 클래스형 데코레이터\n",
    "- init, call 을 선언하고, @클래스명을 전달하면, 데코레이팅이 된다."
   ]
  },
  {
   "cell_type": "code",
   "execution_count": 80,
   "id": "fac45277",
   "metadata": {},
   "outputs": [],
   "source": [
    "class Deco:\n",
    "    def __init__(self,function):\n",
    "        self.function = function\n",
    "    \n",
    "    def __call__(self,*args,**kwargs):\n",
    "        print(f\"{self.function.__name__} 함수 시작\")\n",
    "        self.function()\n",
    "        print(f\"{self.function.__name__} 함수 끝\")"
   ]
  },
  {
   "cell_type": "code",
   "execution_count": 81,
   "id": "0e5d88c7",
   "metadata": {},
   "outputs": [],
   "source": [
    "\n",
    "@Deco\n",
    "def f1():\n",
    "    print(\"f1 hello\")"
   ]
  },
  {
   "cell_type": "code",
   "execution_count": 82,
   "id": "3678dc47",
   "metadata": {},
   "outputs": [
    {
     "name": "stdout",
     "output_type": "stream",
     "text": [
      "f1 함수 시작\n",
      "f1 hello\n",
      "f1 함수 끝\n"
     ]
    }
   ],
   "source": [
    "f1()"
   ]
  }
 ],
 "metadata": {
  "kernelspec": {
   "display_name": "Python 3 (ipykernel)",
   "language": "python",
   "name": "python3"
  },
  "language_info": {
   "codemirror_mode": {
    "name": "ipython",
    "version": 3
   },
   "file_extension": ".py",
   "mimetype": "text/x-python",
   "name": "python",
   "nbconvert_exporter": "python",
   "pygments_lexer": "ipython3",
   "version": "3.8.12"
  }
 },
 "nbformat": 4,
 "nbformat_minor": 5
}
